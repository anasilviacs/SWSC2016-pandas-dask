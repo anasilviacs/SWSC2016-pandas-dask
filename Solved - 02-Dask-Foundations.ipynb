{
 "cells": [
  {
   "cell_type": "markdown",
   "metadata": {
    "collapsed": true
   },
   "source": [
    "<img src=\"img/embarrassing.gif\" width=40% align=\"right\">\n",
    "\n",
    "Understanding Dask\n",
    "===========\n",
    "\n",
    "*Dask is a way to represent computations as dictionaries, and then analyze and execute them.*\n",
    "\n",
    "Dask supports parallel computing.  Internally it executes graphs of tasks with data dependencies.  In this section we talk about what these graphs look like and how to construct them.  We finish with exercises manually building graphs that use basic Pandas functionality.  This is straightforward but somewhat tedious.  We'll automate it in future sections.\n",
    "\n",
    "You can safely skip this section if you don't care about how dask works internally.\n",
    "\n",
    "**Related Documentation**\n",
    "\n",
    "*  [Dask graph specification](http://dask.pydata.org/en/latest/spec.html)\n",
    "*  [Discussion on custom graphs](http://dask.pydata.org/en/latest/custom-graphs.html)"
   ]
  },
  {
   "cell_type": "markdown",
   "metadata": {},
   "source": [
    "## Dask task graphs"
   ]
  },
  {
   "cell_type": "markdown",
   "metadata": {},
   "source": [
    "### Normal Programming\n",
    "\n",
    "Normally we write functions and then use those function in linear code.  The Python interpreter executes this code from the top down."
   ]
  },
  {
   "cell_type": "markdown",
   "metadata": {},
   "source": [
    "### Make functions"
   ]
  },
  {
   "cell_type": "code",
   "execution_count": 1,
   "metadata": {
    "collapsed": false
   },
   "outputs": [],
   "source": [
    "def inc(x):\n",
    "    return x + 1\n",
    "\n",
    "def add(x, y):\n",
    "    return x + y"
   ]
  },
  {
   "cell_type": "markdown",
   "metadata": {},
   "source": [
    "### Call functions in code"
   ]
  },
  {
   "cell_type": "code",
   "execution_count": 2,
   "metadata": {
    "collapsed": false
   },
   "outputs": [
    {
     "data": {
      "text/plain": [
       "13"
      ]
     },
     "execution_count": 2,
     "metadata": {},
     "output_type": "execute_result"
    }
   ],
   "source": [
    "a = 1\n",
    "b = inc(a)\n",
    "\n",
    "x = 10\n",
    "y = inc(x)\n",
    "\n",
    "z = add(b, y)\n",
    "z"
   ]
  },
  {
   "cell_type": "markdown",
   "metadata": {},
   "source": [
    "Even though some of this work could have happened in parallel, Python went ahead and executed one line after the other sequentially.\n",
    "\n",
    "If we want to execute code in parallel then we need to stop Python from taking control."
   ]
  },
  {
   "cell_type": "markdown",
   "metadata": {},
   "source": [
    "### Computation as a data structure\n",
    "\n",
    "Instead of writing normal code we store the stages of the computation above as a Python dictionary where each function call becomes a Python tuple.\n",
    "\n",
    "This is going to look a little strange but we'll have the entire computation stored in a Python data structure that we can manipulate with *other* Python code."
   ]
  },
  {
   "cell_type": "code",
   "execution_count": 3,
   "metadata": {
    "collapsed": true
   },
   "outputs": [],
   "source": [
    "dsk = {'a': 1, \n",
    "       'b': (inc, 'a'),\n",
    "       \n",
    "       'x': 10,\n",
    "       'y': (inc, 'x'),\n",
    "       \n",
    "       'z': (add, 'b', 'y')}"
   ]
  },
  {
   "cell_type": "code",
   "execution_count": 4,
   "metadata": {
    "collapsed": false
   },
   "outputs": [
    {
     "data": {
      "text/plain": [
       "dict"
      ]
     },
     "execution_count": 4,
     "metadata": {},
     "output_type": "execute_result"
    }
   ],
   "source": [
    "type(dsk)"
   ]
  },
  {
   "cell_type": "markdown",
   "metadata": {},
   "source": [
    "We call a dictionary that looks like this a *dask graph*.  A dask graph is just a dictionary."
   ]
  },
  {
   "cell_type": "markdown",
   "metadata": {},
   "source": [
    "### Related Approaches to Delayed Evaluation\n",
    "\n",
    "Representing Python functions as tuples containing function names and arguments may seem strange, but in reality you are already familiar with the style.\n"
   ]
  },
  {
   "cell_type": "code",
   "execution_count": 5,
   "metadata": {
    "collapsed": true
   },
   "outputs": [],
   "source": [
    "# Sometimes we defer compuations with a lambda\n",
    "\n",
    "x = 15\n",
    "y = 30\n",
    "z = lambda: x + y\n",
    "\n",
    "# z delays the execution of x + y until we call z()\n",
    "# This is very similar to (add, 'x', 'y')\n",
    "\n",
    "# Sometimes we defer computations with strings\n",
    "\n",
    "z = \"x + y\"\n",
    "eval(z)\n",
    "\n",
    "# The variable 'z' stores a string that is a valid Python statement\n",
    "# We call eval to fully evaluate `z' and obtain the answer.\n",
    "\n",
    "# Sometimes we use functools.partial\n",
    "import functools\n",
    "z = functools.partial(add, x, y)\n",
    "\n",
    "# Dask delays evaluation with tuples\n",
    "z = (add, x, y)"
   ]
  },
  {
   "cell_type": "markdown",
   "metadata": {},
   "source": [
    "### Dask graph definition\n",
    "\n",
    "To be fully explicit, here is the definition of a dask graph taken from the [dask documentation](http://dask.pydata.org/en/latest/spec.html)\n",
    "\n",
    "A **dask graph** is a dictionary mapping data-keys to values or tasks.\n",
    "\n",
    "```python\n",
    "{'x': 1,\n",
    " 'y': 2,\n",
    " 'z': (add, 'x', 'y'),\n",
    " 'w': (sum, ['x', 'y', 'z'])}\n",
    "```\n",
    "\n",
    "A **key** can be any hashable value that is not a task.\n",
    "\n",
    "```python\n",
    "'x'\n",
    "('x', 2, 3)\n",
    "```\n",
    "\n",
    "A **task** is a tuple with a callable first element. Tasks represent atomic units of work meant to be run by a single worker.\n",
    "\n",
    "```python\n",
    "(add, 'x', 'y')\n",
    "```\n",
    "\n",
    "We represent a task as a `tuple` such that the *first element is a callable function* (like `add`), and the succeeding elements are *arguments* for that function.\n",
    "\n",
    "An **argument** to a task may be one of the following:\n",
    "\n",
    "1. Any key present in the dask like `'x'`\n",
    "2. Any other value like `1`, to be interpreted literally\n",
    "3. Other tasks like `(inc, 'x')`\n",
    "4. List of arguments, like `[1, 'x', (inc, 'x')]`\n",
    "\n",
    "So all of the following are valid tasks\n",
    "\n",
    "```python\n",
    "(add, 1, 2)\n",
    "(add, 'x', 2)\n",
    "(add, (inc, 'x'), 2)\n",
    "(sum, [1, 2])\n",
    "(sum, ['x', (inc, 'x')])\n",
    "(np.dot, np.array([...]), np.array([...]))\n",
    "```"
   ]
  },
  {
   "cell_type": "markdown",
   "metadata": {},
   "source": [
    "### Execute dask graphs\n",
    "\n",
    "The dask library contains functions to execute these dictionaries in parallel with multiple threads or multiple processes."
   ]
  },
  {
   "cell_type": "code",
   "execution_count": 6,
   "metadata": {
    "collapsed": false
   },
   "outputs": [
    {
     "data": {
      "text/plain": [
       "13"
      ]
     },
     "execution_count": 6,
     "metadata": {},
     "output_type": "execute_result"
    }
   ],
   "source": [
    "from dask.threaded import get\n",
    "get(dsk, 'z')  # Execute in multiple threads"
   ]
  },
  {
   "cell_type": "code",
   "execution_count": 7,
   "metadata": {
    "collapsed": false
   },
   "outputs": [
    {
     "data": {
      "text/plain": [
       "13"
      ]
     },
     "execution_count": 7,
     "metadata": {},
     "output_type": "execute_result"
    }
   ],
   "source": [
    "from dask.multiprocessing import get\n",
    "get(dsk, 'z')  # Execute in multiple processes"
   ]
  },
  {
   "cell_type": "code",
   "execution_count": 8,
   "metadata": {
    "collapsed": false
   },
   "outputs": [
    {
     "data": {
      "text/plain": [
       "{'a': 1,\n",
       " 'b': (<function __main__.inc>, 'a'),\n",
       " 'x': 10,\n",
       " 'y': (<function __main__.inc>, 'x'),\n",
       " 'z': (<function __main__.add>, 'b', 'y')}"
      ]
     },
     "execution_count": 8,
     "metadata": {},
     "output_type": "execute_result"
    }
   ],
   "source": [
    "dsk"
   ]
  },
  {
   "cell_type": "markdown",
   "metadata": {},
   "source": [
    "So as long as you're willing to write code in this funny way with dictionaries, dask will run your separate functions in parallel."
   ]
  },
  {
   "cell_type": "markdown",
   "metadata": {},
   "source": [
    "### Analyze and Visualize Graphs\n",
    "\n",
    "Because our computation is just a dictionary we can write arbitrary functions to do a variety of useful analyses on these dictionaries.  A simple yet common operation is just to visualize the computation as a visual graph. "
   ]
  },
  {
   "cell_type": "code",
   "execution_count": 9,
   "metadata": {
    "collapsed": false
   },
   "outputs": [
    {
     "data": {
      "image/svg+xml": [
       "<svg height=\"350pt\" viewBox=\"0.00 0.00 134.00 349.69\" width=\"134pt\" xmlns=\"http://www.w3.org/2000/svg\" xmlns:xlink=\"http://www.w3.org/1999/xlink\">\n",
       "<g class=\"graph\" id=\"graph0\" transform=\"scale(1 1) rotate(0) translate(4 345.692)\">\n",
       "<title>%3</title>\n",
       "<polygon fill=\"white\" points=\"-4,4 -4,-345.692 130,-345.692 130,4 -4,4\" stroke=\"none\"/>\n",
       "<!-- 594537968891120025 -->\n",
       "<g class=\"node\" id=\"node1\"><title>594537968891120025</title>\n",
       "<polygon fill=\"none\" points=\"54,-36 0,-36 0,-0 54,-0 54,-36\" stroke=\"black\"/>\n",
       "<text font-family=\"Times,serif\" font-size=\"14.00\" text-anchor=\"middle\" x=\"27\" y=\"-14.3\">x</text>\n",
       "</g>\n",
       "<!-- 8707172008257681374 -->\n",
       "<g class=\"node\" id=\"node8\"><title>8707172008257681374</title>\n",
       "<ellipse cx=\"27\" cy=\"-93.4481\" fill=\"none\" rx=\"21.3963\" ry=\"21.3963\" stroke=\"black\"/>\n",
       "<text font-family=\"Times,serif\" font-size=\"14.00\" text-anchor=\"middle\" x=\"27\" y=\"-89.7481\">inc</text>\n",
       "</g>\n",
       "<!-- 594537968891120025&#45;&gt;8707172008257681374 -->\n",
       "<g class=\"edge\" id=\"edge7\"><title>594537968891120025-&gt;8707172008257681374</title>\n",
       "<path d=\"M27,-36.0351C27,-43.7107 27,-53.0156 27,-61.8363\" fill=\"none\" stroke=\"black\"/>\n",
       "<polygon fill=\"black\" points=\"23.5001,-61.8421 27,-71.8422 30.5001,-61.8422 23.5001,-61.8421\" stroke=\"black\"/>\n",
       "</g>\n",
       "<!-- &#45;1520875507917188654 -->\n",
       "<g class=\"node\" id=\"node2\"><title>-1520875507917188654</title>\n",
       "<polygon fill=\"none\" points=\"126,-36 72,-36 72,-0 126,-0 126,-36\" stroke=\"black\"/>\n",
       "<text font-family=\"Times,serif\" font-size=\"14.00\" text-anchor=\"middle\" x=\"99\" y=\"-14.3\">a</text>\n",
       "</g>\n",
       "<!-- 6536291289085720737 -->\n",
       "<g class=\"node\" id=\"node7\"><title>6536291289085720737</title>\n",
       "<ellipse cx=\"99\" cy=\"-93.4481\" fill=\"none\" rx=\"21.3963\" ry=\"21.3963\" stroke=\"black\"/>\n",
       "<text font-family=\"Times,serif\" font-size=\"14.00\" text-anchor=\"middle\" x=\"99\" y=\"-89.7481\">inc</text>\n",
       "</g>\n",
       "<!-- &#45;1520875507917188654&#45;&gt;6536291289085720737 -->\n",
       "<g class=\"edge\" id=\"edge5\"><title>-1520875507917188654-&gt;6536291289085720737</title>\n",
       "<path d=\"M99,-36.0351C99,-43.7107 99,-53.0156 99,-61.8363\" fill=\"none\" stroke=\"black\"/>\n",
       "<polygon fill=\"black\" points=\"95.5001,-61.8421 99,-71.8422 102.5,-61.8422 95.5001,-61.8421\" stroke=\"black\"/>\n",
       "</g>\n",
       "<!-- 7065627521308752654 -->\n",
       "<g class=\"node\" id=\"node3\"><title>7065627521308752654</title>\n",
       "<polygon fill=\"none\" points=\"90,-341.692 36,-341.692 36,-305.692 90,-305.692 90,-341.692\" stroke=\"black\"/>\n",
       "<text font-family=\"Times,serif\" font-size=\"14.00\" text-anchor=\"middle\" x=\"63\" y=\"-319.992\">z</text>\n",
       "</g>\n",
       "<!-- 5385314963084669513 -->\n",
       "<g class=\"node\" id=\"node4\"><title>5385314963084669513</title>\n",
       "<ellipse cx=\"63\" cy=\"-246.294\" fill=\"none\" rx=\"23.2963\" ry=\"23.2963\" stroke=\"black\"/>\n",
       "<text font-family=\"Times,serif\" font-size=\"14.00\" text-anchor=\"middle\" x=\"63\" y=\"-242.594\">add</text>\n",
       "</g>\n",
       "<!-- 5385314963084669513&#45;&gt;7065627521308752654 -->\n",
       "<g class=\"edge\" id=\"edge1\"><title>5385314963084669513-&gt;7065627521308752654</title>\n",
       "<path d=\"M63,-269.916C63,-277.968 63,-287.118 63,-295.512\" fill=\"none\" stroke=\"black\"/>\n",
       "<polygon fill=\"black\" points=\"59.5001,-295.601 63,-305.601 66.5001,-295.601 59.5001,-295.601\" stroke=\"black\"/>\n",
       "</g>\n",
       "<!-- &#45;7485480222621750191 -->\n",
       "<g class=\"node\" id=\"node5\"><title>-7485480222621750191</title>\n",
       "<polygon fill=\"none\" points=\"54,-186.896 0,-186.896 0,-150.896 54,-150.896 54,-186.896\" stroke=\"black\"/>\n",
       "<text font-family=\"Times,serif\" font-size=\"14.00\" text-anchor=\"middle\" x=\"27\" y=\"-165.196\">y</text>\n",
       "</g>\n",
       "<!-- &#45;7485480222621750191&#45;&gt;5385314963084669513 -->\n",
       "<g class=\"edge\" id=\"edge2\"><title>-7485480222621750191-&gt;5385314963084669513</title>\n",
       "<path d=\"M35.169,-187.005C39.1831,-195.412 44.1383,-205.79 48.7498,-215.449\" fill=\"none\" stroke=\"black\"/>\n",
       "<polygon fill=\"black\" points=\"45.732,-217.251 53.1993,-224.768 52.0489,-214.235 45.732,-217.251\" stroke=\"black\"/>\n",
       "</g>\n",
       "<!-- 5736662148300813606 -->\n",
       "<g class=\"node\" id=\"node6\"><title>5736662148300813606</title>\n",
       "<polygon fill=\"none\" points=\"126,-186.896 72,-186.896 72,-150.896 126,-150.896 126,-186.896\" stroke=\"black\"/>\n",
       "<text font-family=\"Times,serif\" font-size=\"14.00\" text-anchor=\"middle\" x=\"99\" y=\"-165.196\">b</text>\n",
       "</g>\n",
       "<!-- 5736662148300813606&#45;&gt;5385314963084669513 -->\n",
       "<g class=\"edge\" id=\"edge3\"><title>5736662148300813606-&gt;5385314963084669513</title>\n",
       "<path d=\"M90.831,-187.005C86.8169,-195.412 81.8617,-205.79 77.2502,-215.449\" fill=\"none\" stroke=\"black\"/>\n",
       "<polygon fill=\"black\" points=\"73.9511,-214.235 72.8007,-224.768 80.268,-217.251 73.9511,-214.235\" stroke=\"black\"/>\n",
       "</g>\n",
       "<!-- 6536291289085720737&#45;&gt;5736662148300813606 -->\n",
       "<g class=\"edge\" id=\"edge4\"><title>6536291289085720737-&gt;5736662148300813606</title>\n",
       "<path d=\"M99,-114.907C99,-122.787 99,-131.918 99,-140.357\" fill=\"none\" stroke=\"black\"/>\n",
       "<polygon fill=\"black\" points=\"95.5001,-140.531 99,-150.531 102.5,-140.531 95.5001,-140.531\" stroke=\"black\"/>\n",
       "</g>\n",
       "<!-- 8707172008257681374&#45;&gt;&#45;7485480222621750191 -->\n",
       "<g class=\"edge\" id=\"edge6\"><title>8707172008257681374-&gt;-7485480222621750191</title>\n",
       "<path d=\"M27,-114.907C27,-122.787 27,-131.918 27,-140.357\" fill=\"none\" stroke=\"black\"/>\n",
       "<polygon fill=\"black\" points=\"23.5001,-140.531 27,-150.531 30.5001,-140.531 23.5001,-140.531\" stroke=\"black\"/>\n",
       "</g>\n",
       "</g>\n",
       "</svg>"
      ],
      "text/plain": [
       "<IPython.core.display.SVG object>"
      ]
     },
     "execution_count": 9,
     "metadata": {},
     "output_type": "execute_result"
    }
   ],
   "source": [
    "# Requires that you have pydot and graphviz installed\n",
    "# This isn't a problem if this doesn't work for you\n",
    "from dask.dot import dot_graph\n",
    "dot_graph(dsk, format='svg')"
   ]
  },
  {
   "cell_type": "markdown",
   "metadata": {},
   "source": [
    "That's it\n",
    "----------\n",
    "\n",
    "The rest of this tutorial is fancy ways to construct and executing dask graphs.  We won't make any more by hand after this notebook.  If you'd like to learn more, read the [dask graph spec](http://dask.pydata.org/en/latest/spec.html)."
   ]
  },
  {
   "cell_type": "markdown",
   "metadata": {},
   "source": [
    "Exercise - `read_csv`\n",
    "------------------------\n",
    "\n",
    "Let's look again at the exercise of the previous notebook with the accounts csv files. As an exercise we'll parallelize this example by rewriting it manually as a dask graph.  This will be a little tedious but should give us speedups right away.  In future sections we'll learn how dask submodules like `dask.dataframe` automate this work for us.\n",
    "\n",
    "There are three CSV files in your `data` directory.   We count how many rows are in all of these csv files total.  In normal Python we solve this problem in the following way (version without a for loop)."
   ]
  },
  {
   "cell_type": "code",
   "execution_count": 1,
   "metadata": {
    "collapsed": true
   },
   "outputs": [],
   "source": [
    "import pandas as pd"
   ]
  },
  {
   "cell_type": "code",
   "execution_count": 2,
   "metadata": {
    "collapsed": true
   },
   "outputs": [],
   "source": [
    "import os\n",
    "os.chdir('/local')"
   ]
  },
  {
   "cell_type": "code",
   "execution_count": 3,
   "metadata": {
    "collapsed": false
   },
   "outputs": [
    {
     "data": {
      "text/plain": [
       "['accounts.0.csv', 'accounts.1.csv', 'accounts.2.csv']"
      ]
     },
     "execution_count": 3,
     "metadata": {},
     "output_type": "execute_result"
    }
   ],
   "source": [
    "filenames = ['accounts.%d.csv' % i for i in [0, 1, 2]]\n",
    "filenames"
   ]
  },
  {
   "cell_type": "code",
   "execution_count": 4,
   "metadata": {
    "collapsed": false
   },
   "outputs": [
    {
     "name": "stdout",
     "output_type": "stream",
     "text": [
      "CPU times: user 7.1 s, sys: 891 ms, total: 7.99 s\n",
      "Wall time: 8.53 s\n"
     ]
    }
   ],
   "source": [
    "%%time \n",
    "\n",
    "a = pd.read_csv(filenames[0])\n",
    "b = pd.read_csv(filenames[1])\n",
    "c = pd.read_csv(filenames[2])\n",
    "\n",
    "na = len(a)\n",
    "nb = len(b)\n",
    "nc = len(c)\n",
    "\n",
    "total = sum([na, nb, nc])\n",
    "total"
   ]
  },
  {
   "cell_type": "code",
   "execution_count": 5,
   "metadata": {
    "collapsed": false
   },
   "outputs": [
    {
     "data": {
      "text/plain": [
       "30000000"
      ]
     },
     "execution_count": 5,
     "metadata": {},
     "output_type": "execute_result"
    }
   ],
   "source": [
    "total"
   ]
  },
  {
   "cell_type": "markdown",
   "metadata": {},
   "source": [
    "### Construct a dask graph/dictionary for this computation\n",
    "\n",
    "Just as we turned code that looks like \n",
    "\n",
    "```python\n",
    "y = f(x)\n",
    "```\n",
    "\n",
    "into dictionaries like \n",
    "\n",
    "```python\n",
    "{'y': (f, 'x')}\n",
    "```\n",
    "\n",
    "We can transform the above calls to `pd.read_csv`, `len`, and `sum` into a dictionary of tuples"
   ]
  },
  {
   "cell_type": "code",
   "execution_count": null,
   "metadata": {
    "collapsed": true
   },
   "outputs": [],
   "source": [
    "dsk = {'a': (pd.read_csv, filenames[0]),\n",
    "       'b': ...,\n",
    "       ...\n",
    "       'total': ...}"
   ]
  },
  {
   "cell_type": "code",
   "execution_count": 7,
   "metadata": {
    "clear_cell": true,
    "collapsed": false
   },
   "outputs": [],
   "source": [
    "dsk = {'a': (pd.read_csv, filenames[0]),\n",
    "       'b': (pd.read_csv, filenames[1]),\n",
    "       'c': (pd.read_csv, filenames[2]),\n",
    "       'na': (len, 'a'),\n",
    "       'nb': (len, 'b'),\n",
    "       'nc': (len, 'c'),\n",
    "       'total': (sum, ['na', 'nb', 'nc'])}"
   ]
  },
  {
   "cell_type": "markdown",
   "metadata": {},
   "source": [
    "### Execute your dask graph\n",
    "\n",
    "We execute dask graphs with the `get` functions.  There is a get function for both multi-threading and multi-processing.  Get takes two arguments\n",
    "\n",
    "    get(dsk, output_key)\n",
    "\n",
    "Run the following cells and see how each get function performs.  Why is there a difference?"
   ]
  },
  {
   "cell_type": "code",
   "execution_count": 8,
   "metadata": {
    "collapsed": false
   },
   "outputs": [
    {
     "name": "stdout",
     "output_type": "stream",
     "text": [
      "CPU times: user 7.08 s, sys: 1.52 s, total: 8.6 s\n",
      "Wall time: 3.51 s\n"
     ]
    },
    {
     "data": {
      "text/plain": [
       "30000000"
      ]
     },
     "execution_count": 8,
     "metadata": {},
     "output_type": "execute_result"
    }
   ],
   "source": [
    "from dask.threaded import get\n",
    "%time get(dsk, 'total')"
   ]
  },
  {
   "cell_type": "code",
   "execution_count": 9,
   "metadata": {
    "collapsed": false
   },
   "outputs": [
    {
     "name": "stdout",
     "output_type": "stream",
     "text": [
      "CPU times: user 10.3 ms, sys: 331 ms, total: 341 ms\n",
      "Wall time: 4.4 s\n"
     ]
    },
    {
     "data": {
      "text/plain": [
       "30000000"
      ]
     },
     "execution_count": 9,
     "metadata": {},
     "output_type": "execute_result"
    }
   ],
   "source": [
    "from dask.multiprocessing import get\n",
    "%time get(dsk, 'total')"
   ]
  },
  {
   "cell_type": "markdown",
   "metadata": {},
   "source": [
    "## Task graphs created by Dask collections\n"
   ]
  },
  {
   "cell_type": "markdown",
   "metadata": {},
   "source": [
    "In the previous notebook we already saw how we could perform the above exercise with a `dask.dataframe` instead of manually creating the task dictionaries. Let's repeat that here and look at the created dask task graph."
   ]
  },
  {
   "cell_type": "code",
   "execution_count": 4,
   "metadata": {
    "collapsed": true
   },
   "outputs": [],
   "source": [
    "import dask.dataframe as dd"
   ]
  },
  {
   "cell_type": "code",
   "execution_count": 5,
   "metadata": {
    "collapsed": false
   },
   "outputs": [],
   "source": [
    "df = dd.read_csv(\"accounts.*.csv\", blocksize=int(150e6)) # the large blocksize is to simplify the graphs"
   ]
  },
  {
   "cell_type": "code",
   "execution_count": 6,
   "metadata": {
    "collapsed": false
   },
   "outputs": [
    {
     "data": {
      "text/plain": [
       "dd.DataFrame<from-de..., npartitions=3>"
      ]
     },
     "execution_count": 6,
     "metadata": {},
     "output_type": "execute_result"
    }
   ],
   "source": [
    "df"
   ]
  },
  {
   "cell_type": "markdown",
   "metadata": {},
   "source": [
    "### Exercise: Inspect dask graph\n",
    "\n",
    "Dask `DataFrame` copies a subset of the Pandas API.  \n",
    "\n",
    "However unlike Pandas, operations on dask.dataframes don't trigger immediate computation, instead they add key-value pairs to an underlying dask graph."
   ]
  },
  {
   "cell_type": "code",
   "execution_count": 7,
   "metadata": {
    "collapsed": false
   },
   "outputs": [
    {
     "data": {
      "image/svg+xml": [
       "<svg height=\"523pt\" viewBox=\"0.00 0.00 569.48 522.58\" width=\"569pt\" xmlns=\"http://www.w3.org/2000/svg\" xmlns:xlink=\"http://www.w3.org/1999/xlink\">\n",
       "<g class=\"graph\" id=\"graph0\" transform=\"scale(1 1) rotate(0) translate(4 518.577)\">\n",
       "<title>%3</title>\n",
       "<polygon fill=\"white\" points=\"-4,4 -4,-518.577 565.484,-518.577 565.484,4 -4,4\" stroke=\"none\"/>\n",
       "<!-- 4687749264839529504 -->\n",
       "<g class=\"node\" id=\"node1\"><title>4687749264839529504</title>\n",
       "<polygon fill=\"none\" points=\"150.742,-247.484 24.7422,-247.484 24.7422,-211.484 150.742,-211.484 150.742,-247.484\" stroke=\"black\"/>\n",
       "<text font-family=\"Times,serif\" font-size=\"14.00\" text-anchor=\"middle\" x=\"87.7422\" y=\"-225.784\">read-file-block-#0-0</text>\n",
       "</g>\n",
       "<!-- &#45;3592272068589124677 -->\n",
       "<g class=\"node\" id=\"node14\"><title>-3592272068589124677</title>\n",
       "<ellipse cx=\"87.7422\" cy=\"-327.031\" fill=\"none\" rx=\"43.5923\" ry=\"43.5923\" stroke=\"black\"/>\n",
       "<text font-family=\"Times,serif\" font-size=\"14.00\" text-anchor=\"middle\" x=\"87.7422\" y=\"-323.331\">apply(...)</text>\n",
       "</g>\n",
       "<!-- 4687749264839529504&#45;&gt;&#45;3592272068589124677 -->\n",
       "<g class=\"edge\" id=\"edge11\"><title>4687749264839529504-&gt;-3592272068589124677</title>\n",
       "<path d=\"M87.7422,-247.566C87.7422,-254.898 87.7422,-263.903 87.7422,-273.165\" fill=\"none\" stroke=\"black\"/>\n",
       "<polygon fill=\"black\" points=\"84.2423,-273.251 87.7422,-283.251 91.2423,-273.251 84.2423,-273.251\" stroke=\"black\"/>\n",
       "</g>\n",
       "<!-- 8805237976376941027 -->\n",
       "<g class=\"node\" id=\"node2\"><title>8805237976376941027</title>\n",
       "<ellipse cx=\"87.7422\" cy=\"-87.7422\" fill=\"none\" rx=\"87.9851\" ry=\"87.9851\" stroke=\"black\"/>\n",
       "<text font-family=\"Times,serif\" font-size=\"14.00\" text-anchor=\"middle\" x=\"87.7422\" y=\"-84.0422\">read_block_from_file</text>\n",
       "</g>\n",
       "<!-- 8805237976376941027&#45;&gt;4687749264839529504 -->\n",
       "<g class=\"edge\" id=\"edge1\"><title>8805237976376941027-&gt;4687749264839529504</title>\n",
       "<path d=\"M87.7422,-175.654C87.7422,-184.859 87.7422,-193.644 87.7422,-201.314\" fill=\"none\" stroke=\"black\"/>\n",
       "<polygon fill=\"black\" points=\"84.2423,-201.345 87.7422,-211.345 91.2423,-201.345 84.2423,-201.345\" stroke=\"black\"/>\n",
       "</g>\n",
       "<!-- 8451796290648898369 -->\n",
       "<g class=\"node\" id=\"node3\"><title>8451796290648898369</title>\n",
       "<polygon fill=\"none\" points=\"155.742,-514.577 19.7422,-514.577 19.7422,-478.577 155.742,-478.577 155.742,-514.577\" stroke=\"black\"/>\n",
       "<text font-family=\"Times,serif\" font-size=\"14.00\" text-anchor=\"middle\" x=\"87.7422\" y=\"-492.877\">('from-delayed-#1', 0)</text>\n",
       "</g>\n",
       "<!-- 433832112226162232 -->\n",
       "<g class=\"node\" id=\"node4\"><title>433832112226162232</title>\n",
       "<polygon fill=\"none\" points=\"152.242,-442.577 23.2422,-442.577 23.2422,-406.577 152.242,-406.577 152.242,-442.577\" stroke=\"black\"/>\n",
       "<text font-family=\"Times,serif\" font-size=\"14.00\" text-anchor=\"middle\" x=\"87.7422\" y=\"-420.877\">pandas_read_text-#6</text>\n",
       "</g>\n",
       "<!-- 433832112226162232&#45;&gt;8451796290648898369 -->\n",
       "<g class=\"edge\" id=\"edge2\"><title>433832112226162232-&gt;8451796290648898369</title>\n",
       "<path d=\"M87.7422,-442.88C87.7422,-450.594 87.7422,-459.864 87.7422,-468.464\" fill=\"none\" stroke=\"black\"/>\n",
       "<polygon fill=\"black\" points=\"84.2423,-468.472 87.7422,-478.472 91.2423,-468.472 84.2423,-468.472\" stroke=\"black\"/>\n",
       "</g>\n",
       "<!-- 8451796290646733319 -->\n",
       "<g class=\"node\" id=\"node5\"><title>8451796290646733319</title>\n",
       "<polygon fill=\"none\" points=\"348.742,-514.577 212.742,-514.577 212.742,-478.577 348.742,-478.577 348.742,-514.577\" stroke=\"black\"/>\n",
       "<text font-family=\"Times,serif\" font-size=\"14.00\" text-anchor=\"middle\" x=\"280.742\" y=\"-492.877\">('from-delayed-#1', 2)</text>\n",
       "</g>\n",
       "<!-- 142427129211170959 -->\n",
       "<g class=\"node\" id=\"node6\"><title>142427129211170959</title>\n",
       "<polygon fill=\"none\" points=\"345.242,-442.577 216.242,-442.577 216.242,-406.577 345.242,-406.577 345.242,-442.577\" stroke=\"black\"/>\n",
       "<text font-family=\"Times,serif\" font-size=\"14.00\" text-anchor=\"middle\" x=\"280.742\" y=\"-420.877\">pandas_read_text-#5</text>\n",
       "</g>\n",
       "<!-- 142427129211170959&#45;&gt;8451796290646733319 -->\n",
       "<g class=\"edge\" id=\"edge3\"><title>142427129211170959-&gt;8451796290646733319</title>\n",
       "<path d=\"M280.742,-442.88C280.742,-450.594 280.742,-459.864 280.742,-468.464\" fill=\"none\" stroke=\"black\"/>\n",
       "<polygon fill=\"black\" points=\"277.242,-468.472 280.742,-478.472 284.242,-468.472 277.242,-468.472\" stroke=\"black\"/>\n",
       "</g>\n",
       "<!-- 3405574275478291785 -->\n",
       "<g class=\"node\" id=\"node7\"><title>3405574275478291785</title>\n",
       "<polygon fill=\"none\" points=\"343.742,-247.484 217.742,-247.484 217.742,-211.484 343.742,-211.484 343.742,-247.484\" stroke=\"black\"/>\n",
       "<text font-family=\"Times,serif\" font-size=\"14.00\" text-anchor=\"middle\" x=\"280.742\" y=\"-225.784\">read-file-block-#2-0</text>\n",
       "</g>\n",
       "<!-- &#45;1470341486580762836 -->\n",
       "<g class=\"node\" id=\"node12\"><title>-1470341486580762836</title>\n",
       "<ellipse cx=\"280.742\" cy=\"-327.031\" fill=\"none\" rx=\"43.5923\" ry=\"43.5923\" stroke=\"black\"/>\n",
       "<text font-family=\"Times,serif\" font-size=\"14.00\" text-anchor=\"middle\" x=\"280.742\" y=\"-323.331\">apply(...)</text>\n",
       "</g>\n",
       "<!-- 3405574275478291785&#45;&gt;&#45;1470341486580762836 -->\n",
       "<g class=\"edge\" id=\"edge8\"><title>3405574275478291785-&gt;-1470341486580762836</title>\n",
       "<path d=\"M280.742,-247.566C280.742,-254.898 280.742,-263.903 280.742,-273.165\" fill=\"none\" stroke=\"black\"/>\n",
       "<polygon fill=\"black\" points=\"277.242,-273.251 280.742,-283.251 284.242,-273.251 277.242,-273.251\" stroke=\"black\"/>\n",
       "</g>\n",
       "<!-- 814303248663655522 -->\n",
       "<g class=\"node\" id=\"node8\"><title>814303248663655522</title>\n",
       "<ellipse cx=\"280.742\" cy=\"-87.7422\" fill=\"none\" rx=\"87.9851\" ry=\"87.9851\" stroke=\"black\"/>\n",
       "<text font-family=\"Times,serif\" font-size=\"14.00\" text-anchor=\"middle\" x=\"280.742\" y=\"-84.0422\">read_block_from_file</text>\n",
       "</g>\n",
       "<!-- 814303248663655522&#45;&gt;3405574275478291785 -->\n",
       "<g class=\"edge\" id=\"edge4\"><title>814303248663655522-&gt;3405574275478291785</title>\n",
       "<path d=\"M280.742,-175.654C280.742,-184.859 280.742,-193.644 280.742,-201.314\" fill=\"none\" stroke=\"black\"/>\n",
       "<polygon fill=\"black\" points=\"277.242,-201.345 280.742,-211.345 284.242,-201.345 277.242,-201.345\" stroke=\"black\"/>\n",
       "</g>\n",
       "<!-- 4265934743043219031 -->\n",
       "<g class=\"node\" id=\"node9\"><title>4265934743043219031</title>\n",
       "<polygon fill=\"none\" points=\"538.242,-442.577 409.242,-442.577 409.242,-406.577 538.242,-406.577 538.242,-442.577\" stroke=\"black\"/>\n",
       "<text font-family=\"Times,serif\" font-size=\"14.00\" text-anchor=\"middle\" x=\"473.742\" y=\"-420.877\">pandas_read_text-#3</text>\n",
       "</g>\n",
       "<!-- 8451796290649980894 -->\n",
       "<g class=\"node\" id=\"node15\"><title>8451796290649980894</title>\n",
       "<polygon fill=\"none\" points=\"541.742,-514.577 405.742,-514.577 405.742,-478.577 541.742,-478.577 541.742,-514.577\" stroke=\"black\"/>\n",
       "<text font-family=\"Times,serif\" font-size=\"14.00\" text-anchor=\"middle\" x=\"473.742\" y=\"-492.877\">('from-delayed-#1', 1)</text>\n",
       "</g>\n",
       "<!-- 4265934743043219031&#45;&gt;8451796290649980894 -->\n",
       "<g class=\"edge\" id=\"edge12\"><title>4265934743043219031-&gt;8451796290649980894</title>\n",
       "<path d=\"M473.742,-442.88C473.742,-450.594 473.742,-459.864 473.742,-468.464\" fill=\"none\" stroke=\"black\"/>\n",
       "<polygon fill=\"black\" points=\"470.242,-468.472 473.742,-478.472 477.242,-468.472 470.242,-468.472\" stroke=\"black\"/>\n",
       "</g>\n",
       "<!-- &#45;7220779666763678924 -->\n",
       "<g class=\"node\" id=\"node10\"><title>-7220779666763678924</title>\n",
       "<ellipse cx=\"473.742\" cy=\"-327.031\" fill=\"none\" rx=\"43.5923\" ry=\"43.5923\" stroke=\"black\"/>\n",
       "<text font-family=\"Times,serif\" font-size=\"14.00\" text-anchor=\"middle\" x=\"473.742\" y=\"-323.331\">apply(...)</text>\n",
       "</g>\n",
       "<!-- &#45;7220779666763678924&#45;&gt;4265934743043219031 -->\n",
       "<g class=\"edge\" id=\"edge5\"><title>-7220779666763678924-&gt;4265934743043219031</title>\n",
       "<path d=\"M473.742,-370.773C473.742,-379.382 473.742,-388.21 473.742,-396.124\" fill=\"none\" stroke=\"black\"/>\n",
       "<polygon fill=\"black\" points=\"470.242,-396.243 473.742,-406.243 477.242,-396.243 470.242,-396.243\" stroke=\"black\"/>\n",
       "</g>\n",
       "<!-- 3371027816199428777 -->\n",
       "<g class=\"node\" id=\"node11\"><title>3371027816199428777</title>\n",
       "<polygon fill=\"none\" points=\"536.742,-247.484 410.742,-247.484 410.742,-211.484 536.742,-211.484 536.742,-247.484\" stroke=\"black\"/>\n",
       "<text font-family=\"Times,serif\" font-size=\"14.00\" text-anchor=\"middle\" x=\"473.742\" y=\"-225.784\">read-file-block-#4-0</text>\n",
       "</g>\n",
       "<!-- 3371027816199428777&#45;&gt;&#45;7220779666763678924 -->\n",
       "<g class=\"edge\" id=\"edge6\"><title>3371027816199428777-&gt;-7220779666763678924</title>\n",
       "<path d=\"M473.742,-247.566C473.742,-254.898 473.742,-263.903 473.742,-273.165\" fill=\"none\" stroke=\"black\"/>\n",
       "<polygon fill=\"black\" points=\"470.242,-273.251 473.742,-283.251 477.242,-273.251 470.242,-273.251\" stroke=\"black\"/>\n",
       "</g>\n",
       "<!-- &#45;1470341486580762836&#45;&gt;142427129211170959 -->\n",
       "<g class=\"edge\" id=\"edge7\"><title>-1470341486580762836-&gt;142427129211170959</title>\n",
       "<path d=\"M280.742,-370.773C280.742,-379.382 280.742,-388.21 280.742,-396.124\" fill=\"none\" stroke=\"black\"/>\n",
       "<polygon fill=\"black\" points=\"277.242,-396.243 280.742,-406.243 284.242,-396.243 277.242,-396.243\" stroke=\"black\"/>\n",
       "</g>\n",
       "<!-- 5940229921614404546 -->\n",
       "<g class=\"node\" id=\"node13\"><title>5940229921614404546</title>\n",
       "<ellipse cx=\"473.742\" cy=\"-87.7422\" fill=\"none\" rx=\"87.9851\" ry=\"87.9851\" stroke=\"black\"/>\n",
       "<text font-family=\"Times,serif\" font-size=\"14.00\" text-anchor=\"middle\" x=\"473.742\" y=\"-84.0422\">read_block_from_file</text>\n",
       "</g>\n",
       "<!-- 5940229921614404546&#45;&gt;3371027816199428777 -->\n",
       "<g class=\"edge\" id=\"edge9\"><title>5940229921614404546-&gt;3371027816199428777</title>\n",
       "<path d=\"M473.742,-175.654C473.742,-184.859 473.742,-193.644 473.742,-201.314\" fill=\"none\" stroke=\"black\"/>\n",
       "<polygon fill=\"black\" points=\"470.242,-201.345 473.742,-211.345 477.242,-201.345 470.242,-201.345\" stroke=\"black\"/>\n",
       "</g>\n",
       "<!-- &#45;3592272068589124677&#45;&gt;433832112226162232 -->\n",
       "<g class=\"edge\" id=\"edge10\"><title>-3592272068589124677-&gt;433832112226162232</title>\n",
       "<path d=\"M87.7422,-370.773C87.7422,-379.382 87.7422,-388.21 87.7422,-396.124\" fill=\"none\" stroke=\"black\"/>\n",
       "<polygon fill=\"black\" points=\"84.2423,-396.243 87.7422,-406.243 91.2423,-396.243 84.2423,-396.243\" stroke=\"black\"/>\n",
       "</g>\n",
       "</g>\n",
       "</svg>"
      ],
      "text/plain": [
       "<IPython.core.display.SVG object>"
      ]
     },
     "execution_count": 7,
     "metadata": {},
     "output_type": "execute_result"
    }
   ],
   "source": [
    "df.visualize(format='svg')"
   ]
  },
  {
   "cell_type": "code",
   "execution_count": 8,
   "metadata": {
    "collapsed": false
   },
   "outputs": [
    {
     "data": {
      "image/svg+xml": [
       "<svg height=\"1070pt\" viewBox=\"0.00 0.00 569.48 1070.16\" width=\"569pt\" xmlns=\"http://www.w3.org/2000/svg\" xmlns:xlink=\"http://www.w3.org/1999/xlink\">\n",
       "<g class=\"graph\" id=\"graph0\" transform=\"scale(1 1) rotate(0) translate(4 1066.16)\">\n",
       "<title>%3</title>\n",
       "<polygon fill=\"white\" points=\"-4,4 -4,-1066.16 565.484,-1066.16 565.484,4 -4,4\" stroke=\"none\"/>\n",
       "<!-- 8451796290648898369 -->\n",
       "<g class=\"node\" id=\"node1\"><title>8451796290648898369</title>\n",
       "<polygon fill=\"none\" points=\"526.742,-514.577 390.742,-514.577 390.742,-478.577 526.742,-478.577 526.742,-514.577\" stroke=\"black\"/>\n",
       "<text font-family=\"Times,serif\" font-size=\"14.00\" text-anchor=\"middle\" x=\"458.742\" y=\"-492.877\">('from-delayed-#0', 0)</text>\n",
       "</g>\n",
       "<!-- &#45;5955820990968520369 -->\n",
       "<g class=\"node\" id=\"node28\"><title>-5955820990968520369</title>\n",
       "<ellipse cx=\"457.742\" cy=\"-588.273\" fill=\"none\" rx=\"37.8943\" ry=\"37.8943\" stroke=\"black\"/>\n",
       "<text font-family=\"Times,serif\" font-size=\"14.00\" text-anchor=\"middle\" x=\"457.742\" y=\"-584.573\">getitem</text>\n",
       "</g>\n",
       "<!-- 8451796290648898369&#45;&gt;&#45;5955820990968520369 -->\n",
       "<g class=\"edge\" id=\"edge26\"><title>8451796290648898369-&gt;-5955820990968520369</title>\n",
       "<path d=\"M458.549,-514.871C458.468,-522.195 458.368,-531.119 458.267,-540.166\" fill=\"none\" stroke=\"black\"/>\n",
       "<polygon fill=\"black\" points=\"454.766,-540.315 458.154,-550.353 461.765,-540.393 454.766,-540.315\" stroke=\"black\"/>\n",
       "</g>\n",
       "<!-- 433832112226162232 -->\n",
       "<g class=\"node\" id=\"node2\"><title>433832112226162232</title>\n",
       "<polygon fill=\"none\" points=\"525.242,-442.577 396.242,-442.577 396.242,-406.577 525.242,-406.577 525.242,-442.577\" stroke=\"black\"/>\n",
       "<text font-family=\"Times,serif\" font-size=\"14.00\" text-anchor=\"middle\" x=\"460.742\" y=\"-420.877\">pandas_read_text-#8</text>\n",
       "</g>\n",
       "<!-- 433832112226162232&#45;&gt;8451796290648898369 -->\n",
       "<g class=\"edge\" id=\"edge1\"><title>433832112226162232-&gt;8451796290648898369</title>\n",
       "<path d=\"M460.248,-442.88C460.027,-450.594 459.763,-459.864 459.517,-468.464\" fill=\"none\" stroke=\"black\"/>\n",
       "<polygon fill=\"black\" points=\"456.018,-468.376 459.231,-478.472 463.015,-468.576 456.018,-468.376\" stroke=\"black\"/>\n",
       "</g>\n",
       "<!-- 8451796290646733319 -->\n",
       "<g class=\"node\" id=\"node3\"><title>8451796290646733319</title>\n",
       "<polygon fill=\"none\" points=\"348.742,-514.577 212.742,-514.577 212.742,-478.577 348.742,-478.577 348.742,-514.577\" stroke=\"black\"/>\n",
       "<text font-family=\"Times,serif\" font-size=\"14.00\" text-anchor=\"middle\" x=\"280.742\" y=\"-492.877\">('from-delayed-#0', 2)</text>\n",
       "</g>\n",
       "<!-- &#45;784213179094437003 -->\n",
       "<g class=\"node\" id=\"node26\"><title>-784213179094437003</title>\n",
       "<ellipse cx=\"280.742\" cy=\"-588.273\" fill=\"none\" rx=\"37.8943\" ry=\"37.8943\" stroke=\"black\"/>\n",
       "<text font-family=\"Times,serif\" font-size=\"14.00\" text-anchor=\"middle\" x=\"280.742\" y=\"-584.573\">getitem</text>\n",
       "</g>\n",
       "<!-- 8451796290646733319&#45;&gt;&#45;784213179094437003 -->\n",
       "<g class=\"edge\" id=\"edge22\"><title>8451796290646733319-&gt;-784213179094437003</title>\n",
       "<path d=\"M280.742,-514.871C280.742,-522.195 280.742,-531.119 280.742,-540.166\" fill=\"none\" stroke=\"black\"/>\n",
       "<polygon fill=\"black\" points=\"277.242,-540.353 280.742,-550.353 284.242,-540.353 277.242,-540.353\" stroke=\"black\"/>\n",
       "</g>\n",
       "<!-- 142427129211170959 -->\n",
       "<g class=\"node\" id=\"node4\"><title>142427129211170959</title>\n",
       "<polygon fill=\"none\" points=\"345.242,-442.577 216.242,-442.577 216.242,-406.577 345.242,-406.577 345.242,-442.577\" stroke=\"black\"/>\n",
       "<text font-family=\"Times,serif\" font-size=\"14.00\" text-anchor=\"middle\" x=\"280.742\" y=\"-420.877\">pandas_read_text-#6</text>\n",
       "</g>\n",
       "<!-- 142427129211170959&#45;&gt;8451796290646733319 -->\n",
       "<g class=\"edge\" id=\"edge2\"><title>142427129211170959-&gt;8451796290646733319</title>\n",
       "<path d=\"M280.742,-442.88C280.742,-450.594 280.742,-459.864 280.742,-468.464\" fill=\"none\" stroke=\"black\"/>\n",
       "<polygon fill=\"black\" points=\"277.242,-468.472 280.742,-478.472 284.242,-468.472 277.242,-468.472\" stroke=\"black\"/>\n",
       "</g>\n",
       "<!-- 3405574275478291785 -->\n",
       "<g class=\"node\" id=\"node5\"><title>3405574275478291785</title>\n",
       "<polygon fill=\"none\" points=\"343.742,-247.484 217.742,-247.484 217.742,-211.484 343.742,-211.484 343.742,-247.484\" stroke=\"black\"/>\n",
       "<text font-family=\"Times,serif\" font-size=\"14.00\" text-anchor=\"middle\" x=\"280.742\" y=\"-225.784\">read-file-block-#1-0</text>\n",
       "</g>\n",
       "<!-- &#45;1470341486580762836 -->\n",
       "<g class=\"node\" id=\"node13\"><title>-1470341486580762836</title>\n",
       "<ellipse cx=\"280.742\" cy=\"-327.031\" fill=\"none\" rx=\"43.5923\" ry=\"43.5923\" stroke=\"black\"/>\n",
       "<text font-family=\"Times,serif\" font-size=\"14.00\" text-anchor=\"middle\" x=\"280.742\" y=\"-323.331\">apply(...)</text>\n",
       "</g>\n",
       "<!-- 3405574275478291785&#45;&gt;&#45;1470341486580762836 -->\n",
       "<g class=\"edge\" id=\"edge9\"><title>3405574275478291785-&gt;-1470341486580762836</title>\n",
       "<path d=\"M280.742,-247.566C280.742,-254.898 280.742,-263.903 280.742,-273.165\" fill=\"none\" stroke=\"black\"/>\n",
       "<polygon fill=\"black\" points=\"277.242,-273.251 280.742,-283.251 284.242,-273.251 277.242,-273.251\" stroke=\"black\"/>\n",
       "</g>\n",
       "<!-- 814303248663655522 -->\n",
       "<g class=\"node\" id=\"node6\"><title>814303248663655522</title>\n",
       "<ellipse cx=\"280.742\" cy=\"-87.7422\" fill=\"none\" rx=\"87.9851\" ry=\"87.9851\" stroke=\"black\"/>\n",
       "<text font-family=\"Times,serif\" font-size=\"14.00\" text-anchor=\"middle\" x=\"280.742\" y=\"-84.0422\">read_block_from_file</text>\n",
       "</g>\n",
       "<!-- 814303248663655522&#45;&gt;3405574275478291785 -->\n",
       "<g class=\"edge\" id=\"edge3\"><title>814303248663655522-&gt;3405574275478291785</title>\n",
       "<path d=\"M280.742,-175.654C280.742,-184.859 280.742,-193.644 280.742,-201.314\" fill=\"none\" stroke=\"black\"/>\n",
       "<polygon fill=\"black\" points=\"277.242,-201.345 280.742,-211.345 284.242,-201.345 277.242,-201.345\" stroke=\"black\"/>\n",
       "</g>\n",
       "<!-- 4265934743043219031 -->\n",
       "<g class=\"node\" id=\"node7\"><title>4265934743043219031</title>\n",
       "<polygon fill=\"none\" points=\"161.242,-442.577 32.2422,-442.577 32.2422,-406.577 161.242,-406.577 161.242,-442.577\" stroke=\"black\"/>\n",
       "<text font-family=\"Times,serif\" font-size=\"14.00\" text-anchor=\"middle\" x=\"96.7422\" y=\"-420.877\">pandas_read_text-#2</text>\n",
       "</g>\n",
       "<!-- 8451796290649980894 -->\n",
       "<g class=\"node\" id=\"node15\"><title>8451796290649980894</title>\n",
       "<polygon fill=\"none\" points=\"168.742,-514.577 32.7422,-514.577 32.7422,-478.577 168.742,-478.577 168.742,-514.577\" stroke=\"black\"/>\n",
       "<text font-family=\"Times,serif\" font-size=\"14.00\" text-anchor=\"middle\" x=\"100.742\" y=\"-492.877\">('from-delayed-#0', 1)</text>\n",
       "</g>\n",
       "<!-- 4265934743043219031&#45;&gt;8451796290649980894 -->\n",
       "<g class=\"edge\" id=\"edge12\"><title>4265934743043219031-&gt;8451796290649980894</title>\n",
       "<path d=\"M97.731,-442.88C98.1718,-450.594 98.7015,-459.864 99.1929,-468.464\" fill=\"none\" stroke=\"black\"/>\n",
       "<polygon fill=\"black\" points=\"95.6999,-468.688 99.7648,-478.472 102.689,-468.289 95.6999,-468.688\" stroke=\"black\"/>\n",
       "</g>\n",
       "<!-- &#45;7220779666763678924 -->\n",
       "<g class=\"node\" id=\"node8\"><title>-7220779666763678924</title>\n",
       "<ellipse cx=\"88.7422\" cy=\"-327.031\" fill=\"none\" rx=\"43.5923\" ry=\"43.5923\" stroke=\"black\"/>\n",
       "<text font-family=\"Times,serif\" font-size=\"14.00\" text-anchor=\"middle\" x=\"88.7422\" y=\"-323.331\">apply(...)</text>\n",
       "</g>\n",
       "<!-- &#45;7220779666763678924&#45;&gt;4265934743043219031 -->\n",
       "<g class=\"edge\" id=\"edge4\"><title>-7220779666763678924-&gt;4265934743043219031</title>\n",
       "<path d=\"M92.2977,-370.495C93.0207,-379.13 93.7633,-387.999 94.4294,-395.955\" fill=\"none\" stroke=\"black\"/>\n",
       "<polygon fill=\"black\" points=\"90.9592,-396.457 95.2814,-406.13 97.9348,-395.873 90.9592,-396.457\" stroke=\"black\"/>\n",
       "</g>\n",
       "<!-- 3371027816199428777 -->\n",
       "<g class=\"node\" id=\"node9\"><title>3371027816199428777</title>\n",
       "<polygon fill=\"none\" points=\"150.742,-247.484 24.7422,-247.484 24.7422,-211.484 150.742,-211.484 150.742,-247.484\" stroke=\"black\"/>\n",
       "<text font-family=\"Times,serif\" font-size=\"14.00\" text-anchor=\"middle\" x=\"87.7422\" y=\"-225.784\">read-file-block-#3-0</text>\n",
       "</g>\n",
       "<!-- 3371027816199428777&#45;&gt;&#45;7220779666763678924 -->\n",
       "<g class=\"edge\" id=\"edge5\"><title>3371027816199428777-&gt;-7220779666763678924</title>\n",
       "<path d=\"M87.921,-247.566C87.9977,-254.898 88.092,-263.903 88.1889,-273.165\" fill=\"none\" stroke=\"black\"/>\n",
       "<polygon fill=\"black\" points=\"84.6899,-273.288 88.2945,-283.251 91.6895,-273.215 84.6899,-273.288\" stroke=\"black\"/>\n",
       "</g>\n",
       "<!-- 135584372355180941 -->\n",
       "<g class=\"node\" id=\"node10\"><title>135584372355180941</title>\n",
       "<polygon fill=\"none\" points=\"183.742,-867.065 25.7422,-867.065 25.7422,-831.065 183.742,-831.065 183.742,-867.065\" stroke=\"black\"/>\n",
       "<text font-family=\"Times,serif\" font-size=\"14.00\" text-anchor=\"middle\" x=\"104.742\" y=\"-845.365\">('series-sum-chunk-#4', 1)</text>\n",
       "</g>\n",
       "<!-- &#45;5881704009392425237 -->\n",
       "<g class=\"node\" id=\"node19\"><title>-5881704009392425237</title>\n",
       "<ellipse cx=\"280.742\" cy=\"-946.611\" fill=\"none\" rx=\"43.5923\" ry=\"43.5923\" stroke=\"black\"/>\n",
       "<text font-family=\"Times,serif\" font-size=\"14.00\" text-anchor=\"middle\" x=\"280.742\" y=\"-942.911\">apply(...)</text>\n",
       "</g>\n",
       "<!-- 135584372355180941&#45;&gt;&#45;5881704009392425237 -->\n",
       "<g class=\"edge\" id=\"edge17\"><title>135584372355180941-&gt;-5881704009392425237</title>\n",
       "<path d=\"M136.207,-867.146C163.385,-881.9 203.038,-903.427 233.939,-920.202\" fill=\"none\" stroke=\"black\"/>\n",
       "<polygon fill=\"black\" points=\"232.355,-923.325 242.813,-925.02 235.695,-917.173 232.355,-923.325\" stroke=\"black\"/>\n",
       "</g>\n",
       "<!-- 2848087955605140990 -->\n",
       "<g class=\"node\" id=\"node11\"><title>2848087955605140990</title>\n",
       "<ellipse cx=\"104.742\" cy=\"-764.517\" fill=\"none\" rx=\"30.5947\" ry=\"30.5947\" stroke=\"black\"/>\n",
       "<text font-family=\"Times,serif\" font-size=\"14.00\" text-anchor=\"middle\" x=\"104.742\" y=\"-760.817\">apply</text>\n",
       "</g>\n",
       "<!-- 2848087955605140990&#45;&gt;135584372355180941 -->\n",
       "<g class=\"edge\" id=\"edge6\"><title>2848087955605140990-&gt;135584372355180941</title>\n",
       "<path d=\"M104.742,-795.319C104.742,-803.667 104.742,-812.696 104.742,-820.884\" fill=\"none\" stroke=\"black\"/>\n",
       "<polygon fill=\"black\" points=\"101.242,-821.036 104.742,-831.036 108.242,-821.036 101.242,-821.036\" stroke=\"black\"/>\n",
       "</g>\n",
       "<!-- 11159247227310359 -->\n",
       "<g class=\"node\" id=\"node12\"><title>11159247227310359</title>\n",
       "<polygon fill=\"none\" points=\"155.742,-697.97 51.7422,-697.97 51.7422,-661.97 155.742,-661.97 155.742,-697.97\" stroke=\"black\"/>\n",
       "<text font-family=\"Times,serif\" font-size=\"14.00\" text-anchor=\"middle\" x=\"103.742\" y=\"-676.27\">('getitem-#5', 1)</text>\n",
       "</g>\n",
       "<!-- 11159247227310359&#45;&gt;2848087955605140990 -->\n",
       "<g class=\"edge\" id=\"edge7\"><title>11159247227310359-&gt;2848087955605140990</title>\n",
       "<path d=\"M103.949,-698.074C104.04,-705.554 104.15,-714.669 104.26,-723.691\" fill=\"none\" stroke=\"black\"/>\n",
       "<polygon fill=\"black\" points=\"100.761,-723.79 104.382,-733.747 107.76,-723.705 100.761,-723.79\" stroke=\"black\"/>\n",
       "</g>\n",
       "<!-- &#45;1470341486580762836&#45;&gt;142427129211170959 -->\n",
       "<g class=\"edge\" id=\"edge8\"><title>-1470341486580762836-&gt;142427129211170959</title>\n",
       "<path d=\"M280.742,-370.773C280.742,-379.382 280.742,-388.21 280.742,-396.124\" fill=\"none\" stroke=\"black\"/>\n",
       "<polygon fill=\"black\" points=\"277.242,-396.243 280.742,-406.243 284.242,-396.243 277.242,-396.243\" stroke=\"black\"/>\n",
       "</g>\n",
       "<!-- 4929077325902006772 -->\n",
       "<g class=\"node\" id=\"node14\"><title>4929077325902006772</title>\n",
       "<ellipse cx=\"102.742\" cy=\"-588.273\" fill=\"none\" rx=\"37.8943\" ry=\"37.8943\" stroke=\"black\"/>\n",
       "<text font-family=\"Times,serif\" font-size=\"14.00\" text-anchor=\"middle\" x=\"102.742\" y=\"-584.573\">getitem</text>\n",
       "</g>\n",
       "<!-- 4929077325902006772&#45;&gt;11159247227310359 -->\n",
       "<g class=\"edge\" id=\"edge10\"><title>4929077325902006772-&gt;11159247227310359</title>\n",
       "<path d=\"M103.152,-626.015C103.248,-634.627 103.348,-643.651 103.439,-651.76\" fill=\"none\" stroke=\"black\"/>\n",
       "<polygon fill=\"black\" points=\"99.9392,-651.821 103.551,-661.782 106.939,-651.743 99.9392,-651.821\" stroke=\"black\"/>\n",
       "</g>\n",
       "<!-- 8451796290649980894&#45;&gt;4929077325902006772 -->\n",
       "<g class=\"edge\" id=\"edge11\"><title>8451796290649980894-&gt;4929077325902006772</title>\n",
       "<path d=\"M101.128,-514.871C101.291,-522.195 101.49,-531.119 101.692,-540.166\" fill=\"none\" stroke=\"black\"/>\n",
       "<polygon fill=\"black\" points=\"98.1969,-540.434 101.919,-550.353 105.195,-540.278 98.1969,-540.434\" stroke=\"black\"/>\n",
       "</g>\n",
       "<!-- 4687749264839529504 -->\n",
       "<g class=\"node\" id=\"node16\"><title>4687749264839529504</title>\n",
       "<polygon fill=\"none\" points=\"535.742,-247.484 409.742,-247.484 409.742,-211.484 535.742,-211.484 535.742,-247.484\" stroke=\"black\"/>\n",
       "<text font-family=\"Times,serif\" font-size=\"14.00\" text-anchor=\"middle\" x=\"472.742\" y=\"-225.784\">read-file-block-#7-0</text>\n",
       "</g>\n",
       "<!-- &#45;3592272068589124677 -->\n",
       "<g class=\"node\" id=\"node29\"><title>-3592272068589124677</title>\n",
       "<ellipse cx=\"464.742\" cy=\"-327.031\" fill=\"none\" rx=\"43.5923\" ry=\"43.5923\" stroke=\"black\"/>\n",
       "<text font-family=\"Times,serif\" font-size=\"14.00\" text-anchor=\"middle\" x=\"464.742\" y=\"-323.331\">apply(...)</text>\n",
       "</g>\n",
       "<!-- 4687749264839529504&#45;&gt;&#45;3592272068589124677 -->\n",
       "<g class=\"edge\" id=\"edge28\"><title>4687749264839529504-&gt;-3592272068589124677</title>\n",
       "<path d=\"M471.312,-247.566C470.698,-254.898 469.944,-263.903 469.169,-273.165\" fill=\"none\" stroke=\"black\"/>\n",
       "<polygon fill=\"black\" points=\"465.671,-272.994 468.324,-283.251 472.646,-273.578 465.671,-272.994\" stroke=\"black\"/>\n",
       "</g>\n",
       "<!-- 8805237976376941027 -->\n",
       "<g class=\"node\" id=\"node17\"><title>8805237976376941027</title>\n",
       "<ellipse cx=\"473.742\" cy=\"-87.7422\" fill=\"none\" rx=\"87.9851\" ry=\"87.9851\" stroke=\"black\"/>\n",
       "<text font-family=\"Times,serif\" font-size=\"14.00\" text-anchor=\"middle\" x=\"473.742\" y=\"-84.0422\">read_block_from_file</text>\n",
       "</g>\n",
       "<!-- 8805237976376941027&#45;&gt;4687749264839529504 -->\n",
       "<g class=\"edge\" id=\"edge13\"><title>8805237976376941027-&gt;4687749264839529504</title>\n",
       "<path d=\"M473.12,-175.654C473.054,-184.859 472.992,-193.644 472.937,-201.314\" fill=\"none\" stroke=\"black\"/>\n",
       "<polygon fill=\"black\" points=\"469.437,-201.32 472.865,-211.345 476.436,-201.37 469.437,-201.32\" stroke=\"black\"/>\n",
       "</g>\n",
       "<!-- 239906056446127336 -->\n",
       "<g class=\"node\" id=\"node18\"><title>239906056446127336</title>\n",
       "<polygon fill=\"none\" points=\"353.242,-1062.16 208.242,-1062.16 208.242,-1026.16 353.242,-1026.16 353.242,-1062.16\" stroke=\"black\"/>\n",
       "<text font-family=\"Times,serif\" font-size=\"14.00\" text-anchor=\"middle\" x=\"280.742\" y=\"-1040.46\">('series-sum-agg-#4', 0)</text>\n",
       "</g>\n",
       "<!-- &#45;5881704009392425237&#45;&gt;239906056446127336 -->\n",
       "<g class=\"edge\" id=\"edge14\"><title>-5881704009392425237-&gt;239906056446127336</title>\n",
       "<path d=\"M280.742,-990.354C280.742,-998.962 280.742,-1007.79 280.742,-1015.7\" fill=\"none\" stroke=\"black\"/>\n",
       "<polygon fill=\"black\" points=\"277.242,-1015.82 280.742,-1025.82 284.242,-1015.82 277.242,-1015.82\" stroke=\"black\"/>\n",
       "</g>\n",
       "<!-- 135584372354098416 -->\n",
       "<g class=\"node\" id=\"node20\"><title>135584372354098416</title>\n",
       "<polygon fill=\"none\" points=\"359.742,-867.065 201.742,-867.065 201.742,-831.065 359.742,-831.065 359.742,-867.065\" stroke=\"black\"/>\n",
       "<text font-family=\"Times,serif\" font-size=\"14.00\" text-anchor=\"middle\" x=\"280.742\" y=\"-845.365\">('series-sum-chunk-#4', 2)</text>\n",
       "</g>\n",
       "<!-- 135584372354098416&#45;&gt;&#45;5881704009392425237 -->\n",
       "<g class=\"edge\" id=\"edge15\"><title>135584372354098416-&gt;-5881704009392425237</title>\n",
       "<path d=\"M280.742,-867.146C280.742,-874.478 280.742,-883.483 280.742,-892.745\" fill=\"none\" stroke=\"black\"/>\n",
       "<polygon fill=\"black\" points=\"277.242,-892.831 280.742,-902.831 284.242,-892.831 277.242,-892.831\" stroke=\"black\"/>\n",
       "</g>\n",
       "<!-- 135584372356263466 -->\n",
       "<g class=\"node\" id=\"node21\"><title>135584372356263466</title>\n",
       "<polygon fill=\"none\" points=\"535.742,-867.065 377.742,-867.065 377.742,-831.065 535.742,-831.065 535.742,-867.065\" stroke=\"black\"/>\n",
       "<text font-family=\"Times,serif\" font-size=\"14.00\" text-anchor=\"middle\" x=\"456.742\" y=\"-845.365\">('series-sum-chunk-#4', 0)</text>\n",
       "</g>\n",
       "<!-- 135584372356263466&#45;&gt;&#45;5881704009392425237 -->\n",
       "<g class=\"edge\" id=\"edge16\"><title>135584372356263466-&gt;-5881704009392425237</title>\n",
       "<path d=\"M425.277,-867.146C398.1,-881.9 358.446,-903.427 327.546,-920.202\" fill=\"none\" stroke=\"black\"/>\n",
       "<polygon fill=\"black\" points=\"325.79,-917.173 318.671,-925.02 329.129,-923.325 325.79,-917.173\" stroke=\"black\"/>\n",
       "</g>\n",
       "<!-- 5940229921614404546 -->\n",
       "<g class=\"node\" id=\"node22\"><title>5940229921614404546</title>\n",
       "<ellipse cx=\"87.7422\" cy=\"-87.7422\" fill=\"none\" rx=\"87.9851\" ry=\"87.9851\" stroke=\"black\"/>\n",
       "<text font-family=\"Times,serif\" font-size=\"14.00\" text-anchor=\"middle\" x=\"87.7422\" y=\"-84.0422\">read_block_from_file</text>\n",
       "</g>\n",
       "<!-- 5940229921614404546&#45;&gt;3371027816199428777 -->\n",
       "<g class=\"edge\" id=\"edge18\"><title>5940229921614404546-&gt;3371027816199428777</title>\n",
       "<path d=\"M87.7422,-175.654C87.7422,-184.859 87.7422,-193.644 87.7422,-201.314\" fill=\"none\" stroke=\"black\"/>\n",
       "<polygon fill=\"black\" points=\"84.2423,-201.345 87.7422,-211.345 91.2423,-201.345 84.2423,-201.345\" stroke=\"black\"/>\n",
       "</g>\n",
       "<!-- 3950137087556485465 -->\n",
       "<g class=\"node\" id=\"node23\"><title>3950137087556485465</title>\n",
       "<ellipse cx=\"456.742\" cy=\"-764.517\" fill=\"none\" rx=\"30.5947\" ry=\"30.5947\" stroke=\"black\"/>\n",
       "<text font-family=\"Times,serif\" font-size=\"14.00\" text-anchor=\"middle\" x=\"456.742\" y=\"-760.817\">apply</text>\n",
       "</g>\n",
       "<!-- 3950137087556485465&#45;&gt;135584372356263466 -->\n",
       "<g class=\"edge\" id=\"edge19\"><title>3950137087556485465-&gt;135584372356263466</title>\n",
       "<path d=\"M456.742,-795.319C456.742,-803.667 456.742,-812.696 456.742,-820.884\" fill=\"none\" stroke=\"black\"/>\n",
       "<polygon fill=\"black\" points=\"453.242,-821.036 456.742,-831.036 460.242,-821.036 453.242,-821.036\" stroke=\"black\"/>\n",
       "</g>\n",
       "<!-- 11159247228392884 -->\n",
       "<g class=\"node\" id=\"node24\"><title>11159247228392884</title>\n",
       "<polygon fill=\"none\" points=\"508.742,-697.97 404.742,-697.97 404.742,-661.97 508.742,-661.97 508.742,-697.97\" stroke=\"black\"/>\n",
       "<text font-family=\"Times,serif\" font-size=\"14.00\" text-anchor=\"middle\" x=\"456.742\" y=\"-676.27\">('getitem-#5', 0)</text>\n",
       "</g>\n",
       "<!-- 11159247228392884&#45;&gt;3950137087556485465 -->\n",
       "<g class=\"edge\" id=\"edge20\"><title>11159247228392884-&gt;3950137087556485465</title>\n",
       "<path d=\"M456.742,-698.074C456.742,-705.554 456.742,-714.669 456.742,-723.691\" fill=\"none\" stroke=\"black\"/>\n",
       "<polygon fill=\"black\" points=\"453.242,-723.747 456.742,-733.747 460.242,-723.747 453.242,-723.747\" stroke=\"black\"/>\n",
       "</g>\n",
       "<!-- 11159247230557934 -->\n",
       "<g class=\"node\" id=\"node25\"><title>11159247230557934</title>\n",
       "<polygon fill=\"none\" points=\"332.742,-697.97 228.742,-697.97 228.742,-661.97 332.742,-661.97 332.742,-697.97\" stroke=\"black\"/>\n",
       "<text font-family=\"Times,serif\" font-size=\"14.00\" text-anchor=\"middle\" x=\"280.742\" y=\"-676.27\">('getitem-#5', 2)</text>\n",
       "</g>\n",
       "<!-- 6592491599039358515 -->\n",
       "<g class=\"node\" id=\"node27\"><title>6592491599039358515</title>\n",
       "<ellipse cx=\"280.742\" cy=\"-764.517\" fill=\"none\" rx=\"30.5947\" ry=\"30.5947\" stroke=\"black\"/>\n",
       "<text font-family=\"Times,serif\" font-size=\"14.00\" text-anchor=\"middle\" x=\"280.742\" y=\"-760.817\">apply</text>\n",
       "</g>\n",
       "<!-- 11159247230557934&#45;&gt;6592491599039358515 -->\n",
       "<g class=\"edge\" id=\"edge24\"><title>11159247230557934-&gt;6592491599039358515</title>\n",
       "<path d=\"M280.742,-698.074C280.742,-705.554 280.742,-714.669 280.742,-723.691\" fill=\"none\" stroke=\"black\"/>\n",
       "<polygon fill=\"black\" points=\"277.242,-723.747 280.742,-733.747 284.242,-723.747 277.242,-723.747\" stroke=\"black\"/>\n",
       "</g>\n",
       "<!-- &#45;784213179094437003&#45;&gt;11159247230557934 -->\n",
       "<g class=\"edge\" id=\"edge21\"><title>-784213179094437003-&gt;11159247230557934</title>\n",
       "<path d=\"M280.742,-626.015C280.742,-634.627 280.742,-643.651 280.742,-651.76\" fill=\"none\" stroke=\"black\"/>\n",
       "<polygon fill=\"black\" points=\"277.242,-651.782 280.742,-661.782 284.242,-651.782 277.242,-651.782\" stroke=\"black\"/>\n",
       "</g>\n",
       "<!-- 6592491599039358515&#45;&gt;135584372354098416 -->\n",
       "<g class=\"edge\" id=\"edge23\"><title>6592491599039358515-&gt;135584372354098416</title>\n",
       "<path d=\"M280.742,-795.319C280.742,-803.667 280.742,-812.696 280.742,-820.884\" fill=\"none\" stroke=\"black\"/>\n",
       "<polygon fill=\"black\" points=\"277.242,-821.036 280.742,-831.036 284.242,-821.036 277.242,-821.036\" stroke=\"black\"/>\n",
       "</g>\n",
       "<!-- &#45;5955820990968520369&#45;&gt;11159247228392884 -->\n",
       "<g class=\"edge\" id=\"edge25\"><title>-5955820990968520369-&gt;11159247228392884</title>\n",
       "<path d=\"M457.333,-626.015C457.237,-634.627 457.136,-643.651 457.046,-651.76\" fill=\"none\" stroke=\"black\"/>\n",
       "<polygon fill=\"black\" points=\"453.546,-651.743 456.934,-661.782 460.545,-651.821 453.546,-651.743\" stroke=\"black\"/>\n",
       "</g>\n",
       "<!-- &#45;3592272068589124677&#45;&gt;433832112226162232 -->\n",
       "<g class=\"edge\" id=\"edge27\"><title>-3592272068589124677-&gt;433832112226162232</title>\n",
       "<path d=\"M462.953,-370.773C462.592,-379.382 462.223,-388.21 461.891,-396.124\" fill=\"none\" stroke=\"black\"/>\n",
       "<polygon fill=\"black\" points=\"458.389,-396.105 461.468,-406.243 465.383,-396.398 458.389,-396.105\" stroke=\"black\"/>\n",
       "</g>\n",
       "</g>\n",
       "</svg>"
      ],
      "text/plain": [
       "<IPython.core.display.SVG object>"
      ]
     },
     "execution_count": 8,
     "metadata": {},
     "output_type": "execute_result"
    }
   ],
   "source": [
    "df.amount.sum().visualize(format='svg')"
   ]
  },
  {
   "cell_type": "markdown",
   "metadata": {},
   "source": [
    "Above we see graphs corresponding to a call to `dd.read_csv` and `df.amount.sum()` on the result.  \n",
    "\n",
    "Below we see the resulting computations as dictionaries.  You'll note that these dictionaries are a bit more complex than what we built by hand in the last section.  However if you look closely then you'll see all of the familiar elements of `pd.read_csv` and the filenames.\n",
    "\n",
    "Try changing around the expression `df.amount.sum()` and see how the dictionary and graph change.  Explore a bit with the Pandas syntax that you already know."
   ]
  },
  {
   "cell_type": "code",
   "execution_count": 9,
   "metadata": {
    "collapsed": false
   },
   "outputs": [
    {
     "data": {
      "text/plain": [
       "{'read-file-block-d89a57ffcbb4567c057b5193e458b265-0': (<function dask.bytes.local.read_block_from_file>,\n",
       "  '/tmp/accounts.0.csv',\n",
       "  0,\n",
       "  150000000,\n",
       "  b'\\n',\n",
       "  None),\n",
       " ('from-delayed-ffd05130b04bdd8849aff415f950bc45',\n",
       "  0): 'pandas_read_text-2a4cdf5ca558a95cb765ef7f87f7336a',\n",
       " ('from-delayed-ffd05130b04bdd8849aff415f950bc45',\n",
       "  2): 'pandas_read_text-530a29e8a00dbc696b01fcf9c1904153',\n",
       " 'read-file-block-490efe315237c1bb19a0ea5b7c7ad704-0': (<function dask.bytes.local.read_block_from_file>,\n",
       "  '/tmp/accounts.2.csv',\n",
       "  0,\n",
       "  150000000,\n",
       "  b'\\n',\n",
       "  None),\n",
       " 'pandas_read_text-2a4cdf5ca558a95cb765ef7f87f7336a': (<function dask.compatibility.apply>,\n",
       "  <function dask.dataframe.io.csv.pandas_read_text>,\n",
       "  [<function pandas.io.parsers._make_parser_function.<locals>.parser_f>,\n",
       "   'read-file-block-d89a57ffcbb4567c057b5193e458b265-0',\n",
       "   b'id,names,amount\\n',\n",
       "   (dict, []),\n",
       "   (dict,\n",
       "    [['names', dtype('O')],\n",
       "     ['amount', dtype('int64')],\n",
       "     ['id', dtype('int64')]]),\n",
       "   ['id', 'names', 'amount']],\n",
       "  (dict, [['write_header', False], ['enforce', False]])),\n",
       " 'read-file-block-efa7b6510474139fffa08f5c0c207277-0': (<function dask.bytes.local.read_block_from_file>,\n",
       "  '/tmp/accounts.1.csv',\n",
       "  0,\n",
       "  150000000,\n",
       "  b'\\n',\n",
       "  None),\n",
       " 'pandas_read_text-516a630bef68e49cd061eaa5104257cf': (<function dask.compatibility.apply>,\n",
       "  <function dask.dataframe.io.csv.pandas_read_text>,\n",
       "  [<function pandas.io.parsers._make_parser_function.<locals>.parser_f>,\n",
       "   'read-file-block-efa7b6510474139fffa08f5c0c207277-0',\n",
       "   b'id,names,amount\\n',\n",
       "   (dict, []),\n",
       "   (dict,\n",
       "    [['names', dtype('O')],\n",
       "     ['amount', dtype('int64')],\n",
       "     ['id', dtype('int64')]]),\n",
       "   ['id', 'names', 'amount']],\n",
       "  (dict, [['write_header', False], ['enforce', False]])),\n",
       " ('from-delayed-ffd05130b04bdd8849aff415f950bc45',\n",
       "  1): 'pandas_read_text-516a630bef68e49cd061eaa5104257cf',\n",
       " 'pandas_read_text-530a29e8a00dbc696b01fcf9c1904153': (<function dask.compatibility.apply>,\n",
       "  <function dask.dataframe.io.csv.pandas_read_text>,\n",
       "  [<function pandas.io.parsers._make_parser_function.<locals>.parser_f>,\n",
       "   'read-file-block-490efe315237c1bb19a0ea5b7c7ad704-0',\n",
       "   b'id,names,amount\\n',\n",
       "   (dict, []),\n",
       "   (dict,\n",
       "    [['names', dtype('O')],\n",
       "     ['amount', dtype('int64')],\n",
       "     ['id', dtype('int64')]]),\n",
       "   ['id', 'names', 'amount']],\n",
       "  (dict, [['write_header', False], ['enforce', False]]))}"
      ]
     },
     "execution_count": 9,
     "metadata": {},
     "output_type": "execute_result"
    }
   ],
   "source": [
    "df.dask  # .dask attribute contains underlying graph"
   ]
  },
  {
   "cell_type": "code",
   "execution_count": 10,
   "metadata": {
    "collapsed": false
   },
   "outputs": [
    {
     "data": {
      "text/plain": [
       "{('from-delayed-ffd05130b04bdd8849aff415f950bc45',\n",
       "  0): 'pandas_read_text-2a4cdf5ca558a95cb765ef7f87f7336a',\n",
       " ('from-delayed-ffd05130b04bdd8849aff415f950bc45',\n",
       "  2): 'pandas_read_text-530a29e8a00dbc696b01fcf9c1904153',\n",
       " 'read-file-block-490efe315237c1bb19a0ea5b7c7ad704-0': (<function dask.bytes.local.read_block_from_file>,\n",
       "  '/tmp/accounts.2.csv',\n",
       "  0,\n",
       "  150000000,\n",
       "  b'\\n',\n",
       "  None),\n",
       " ('getitem-b586485d680b004e179861f76f682a6f',\n",
       "  1): (<function _operator.getitem>, ('from-delayed-ffd05130b04bdd8849aff415f950bc45',\n",
       "   1), 'amount'),\n",
       " ('series-sum-chunk-52190f6015e50e1163db3ed3fac913f1',\n",
       "  1): (<function dask.compatibility.apply>, <function dask.dataframe.core._reduction_chunk>, [('getitem-b586485d680b004e179861f76f682a6f',\n",
       "    1)], {'aca_chunk': <dask.utils.methodcaller at 0x2aaaf72b3a38>,\n",
       "   'axis': 0,\n",
       "   'skipna': True}),\n",
       " 'pandas_read_text-530a29e8a00dbc696b01fcf9c1904153': (<function dask.compatibility.apply>,\n",
       "  <function dask.dataframe.io.csv.pandas_read_text>,\n",
       "  [<function pandas.io.parsers._make_parser_function.<locals>.parser_f>,\n",
       "   'read-file-block-490efe315237c1bb19a0ea5b7c7ad704-0',\n",
       "   b'id,names,amount\\n',\n",
       "   (dict, []),\n",
       "   (dict,\n",
       "    [['names', dtype('O')],\n",
       "     ['amount', dtype('int64')],\n",
       "     ['id', dtype('int64')]]),\n",
       "   ['id', 'names', 'amount']],\n",
       "  (dict, [['write_header', False], ['enforce', False]])),\n",
       " 'pandas_read_text-516a630bef68e49cd061eaa5104257cf': (<function dask.compatibility.apply>,\n",
       "  <function dask.dataframe.io.csv.pandas_read_text>,\n",
       "  [<function pandas.io.parsers._make_parser_function.<locals>.parser_f>,\n",
       "   'read-file-block-efa7b6510474139fffa08f5c0c207277-0',\n",
       "   b'id,names,amount\\n',\n",
       "   (dict, []),\n",
       "   (dict,\n",
       "    [['names', dtype('O')],\n",
       "     ['amount', dtype('int64')],\n",
       "     ['id', dtype('int64')]]),\n",
       "   ['id', 'names', 'amount']],\n",
       "  (dict, [['write_header', False], ['enforce', False]])),\n",
       " ('from-delayed-ffd05130b04bdd8849aff415f950bc45',\n",
       "  1): 'pandas_read_text-516a630bef68e49cd061eaa5104257cf',\n",
       " 'read-file-block-d89a57ffcbb4567c057b5193e458b265-0': (<function dask.bytes.local.read_block_from_file>,\n",
       "  '/tmp/accounts.0.csv',\n",
       "  0,\n",
       "  150000000,\n",
       "  b'\\n',\n",
       "  None),\n",
       " ('series-sum-agg-52190f6015e50e1163db3ed3fac913f1',\n",
       "  0): (<function dask.compatibility.apply>, <function dask.dataframe.core._reduction_aggregate>, [(<function dask.dataframe.core._concat>,\n",
       "    [('series-sum-chunk-52190f6015e50e1163db3ed3fac913f1', 0),\n",
       "     ('series-sum-chunk-52190f6015e50e1163db3ed3fac913f1', 1),\n",
       "     ('series-sum-chunk-52190f6015e50e1163db3ed3fac913f1',\n",
       "      2)])], {'aca_aggregate': <dask.utils.methodcaller at 0x2aaaf72b3a38>,\n",
       "   'axis': 0,\n",
       "   'skipna': True}),\n",
       " 'read-file-block-efa7b6510474139fffa08f5c0c207277-0': (<function dask.bytes.local.read_block_from_file>,\n",
       "  '/tmp/accounts.1.csv',\n",
       "  0,\n",
       "  150000000,\n",
       "  b'\\n',\n",
       "  None),\n",
       " ('series-sum-chunk-52190f6015e50e1163db3ed3fac913f1',\n",
       "  0): (<function dask.compatibility.apply>, <function dask.dataframe.core._reduction_chunk>, [('getitem-b586485d680b004e179861f76f682a6f',\n",
       "    0)], {'aca_chunk': <dask.utils.methodcaller at 0x2aaaf72b3a38>,\n",
       "   'axis': 0,\n",
       "   'skipna': True}),\n",
       " ('getitem-b586485d680b004e179861f76f682a6f',\n",
       "  2): (<function _operator.getitem>, ('from-delayed-ffd05130b04bdd8849aff415f950bc45',\n",
       "   2), 'amount'),\n",
       " ('series-sum-chunk-52190f6015e50e1163db3ed3fac913f1',\n",
       "  2): (<function dask.compatibility.apply>, <function dask.dataframe.core._reduction_chunk>, [('getitem-b586485d680b004e179861f76f682a6f',\n",
       "    2)], {'aca_chunk': <dask.utils.methodcaller at 0x2aaaf72b3a38>,\n",
       "   'axis': 0,\n",
       "   'skipna': True}),\n",
       " ('getitem-b586485d680b004e179861f76f682a6f',\n",
       "  0): (<function _operator.getitem>, ('from-delayed-ffd05130b04bdd8849aff415f950bc45',\n",
       "   0), 'amount'),\n",
       " 'pandas_read_text-2a4cdf5ca558a95cb765ef7f87f7336a': (<function dask.compatibility.apply>,\n",
       "  <function dask.dataframe.io.csv.pandas_read_text>,\n",
       "  [<function pandas.io.parsers._make_parser_function.<locals>.parser_f>,\n",
       "   'read-file-block-d89a57ffcbb4567c057b5193e458b265-0',\n",
       "   b'id,names,amount\\n',\n",
       "   (dict, []),\n",
       "   (dict,\n",
       "    [['names', dtype('O')],\n",
       "     ['amount', dtype('int64')],\n",
       "     ['id', dtype('int64')]]),\n",
       "   ['id', 'names', 'amount']],\n",
       "  (dict, [['write_header', False], ['enforce', False]]))}"
      ]
     },
     "execution_count": 10,
     "metadata": {},
     "output_type": "execute_result"
    }
   ],
   "source": [
    "df.amount.sum().dask"
   ]
  },
  {
   "cell_type": "markdown",
   "metadata": {},
   "source": [
    "## Building understanding by visualizing: `dask.diagnostics`"
   ]
  },
  {
   "cell_type": "markdown",
   "metadata": {},
   "source": [
    "Dask provides several tools to aid in profiling and inspecting dask graph execution. See the documentation for an overview (http://dask.pydata.org/en/latest/diagnostics.html)."
   ]
  },
  {
   "cell_type": "code",
   "execution_count": 20,
   "metadata": {
    "collapsed": false
   },
   "outputs": [
    {
     "data": {
      "text/plain": [
       "<dask.context.set_options at 0x2aaaf7ee15f8>"
      ]
     },
     "execution_count": 20,
     "metadata": {},
     "output_type": "execute_result"
    }
   ],
   "source": [
    "# set the default used cored to 4 for demonstration purposes\n",
    "from multiprocessing.pool import ThreadPool\n",
    "import dask\n",
    "dask.set_options(pool=ThreadPool(4))"
   ]
  },
  {
   "cell_type": "code",
   "execution_count": 21,
   "metadata": {
    "collapsed": false
   },
   "outputs": [],
   "source": [
    "df = dd.read_csv(\"accounts.*.csv\")"
   ]
  },
  {
   "cell_type": "code",
   "execution_count": 22,
   "metadata": {
    "collapsed": false
   },
   "outputs": [
    {
     "data": {
      "text/plain": [
       "dd.DataFrame<from-de..., npartitions=9>"
      ]
     },
     "execution_count": 22,
     "metadata": {},
     "output_type": "execute_result"
    }
   ],
   "source": [
    "df"
   ]
  },
  {
   "cell_type": "markdown",
   "metadata": {},
   "source": [
    "Let's look at the parallel computation of a grouped count operation:"
   ]
  },
  {
   "cell_type": "code",
   "execution_count": 23,
   "metadata": {
    "collapsed": true
   },
   "outputs": [],
   "source": [
    "result = df.groupby('names')['amount'].count()"
   ]
  },
  {
   "cell_type": "code",
   "execution_count": 24,
   "metadata": {
    "collapsed": false
   },
   "outputs": [
    {
     "data": {
      "image/png": "[encoded data removed]",
      "text/plain": [
       "<IPython.core.display.Image object>"
      ]
     },
     "execution_count": 24,
     "metadata": {},
     "output_type": "execute_result"
    }
   ],
   "source": [
    "result.visualize()"
   ]
  },
  {
   "cell_type": "markdown",
   "metadata": {},
   "source": [
    "Besides the static task graph, we can also visualize the actual computations using dask's Profiler:"
   ]
  },
  {
   "cell_type": "code",
   "execution_count": 16,
   "metadata": {
    "collapsed": false
   },
   "outputs": [
    {
     "data": {
      "text/html": [
       "\n",
       "    <div class=\"bk-root\">\n",
       "        <a href=\"http://bokeh.pydata.org\" target=\"_blank\" class=\"bk-logo bk-logo-small bk-logo-notebook\"></a>\n",
       "        <span id=\"7bbac738-7433-4e4e-bea6-297ea1e9e245\">Loading BokehJS ...</span>\n",
       "    </div>"
      ]
     },
     "metadata": {},
     "output_type": "display_data"
    },
    {
     "data": {
      "application/javascript": [
       "\n",
       "(function(global) {\n",
       "  function now() {\n",
       "    return new Date();\n",
       "  }\n",
       "\n",
       "  var force = \"1\";\n",
       "\n",
       "  if (typeof (window._bokeh_onload_callbacks) === \"undefined\" || force !== \"\") {\n",
       "    window._bokeh_onload_callbacks = [];\n",
       "    window._bokeh_is_loading = undefined;\n",
       "  }\n",
       "\n",
       "\n",
       "  \n",
       "  if (typeof (window._bokeh_timeout) === \"undefined\" || force !== \"\") {\n",
       "    window._bokeh_timeout = Date.now() + 5000;\n",
       "    window._bokeh_failed_load = false;\n",
       "  }\n",
       "\n",
       "  var NB_LOAD_WARNING = {'data': {'text/html':\n",
       "     \"<div style='background-color: #fdd'>\\n\"+\n",
       "     \"<p>\\n\"+\n",
       "     \"BokehJS does not appear to have successfully loaded. If loading BokehJS from CDN, this \\n\"+\n",
       "     \"may be due to a slow or bad network connection. Possible fixes:\\n\"+\n",
       "     \"</p>\\n\"+\n",
       "     \"<ul>\\n\"+\n",
       "     \"<li>re-rerun `output_notebook()` to attempt to load from CDN again, or</li>\\n\"+\n",
       "     \"<li>use INLINE resources instead, as so:</li>\\n\"+\n",
       "     \"</ul>\\n\"+\n",
       "     \"<code>\\n\"+\n",
       "     \"from bokeh.resources import INLINE\\n\"+\n",
       "     \"output_notebook(resources=INLINE)\\n\"+\n",
       "     \"</code>\\n\"+\n",
       "     \"</div>\"}};\n",
       "\n",
       "  function display_loaded() {\n",
       "    if (window.Bokeh !== undefined) {\n",
       "      Bokeh.$(\"#7bbac738-7433-4e4e-bea6-297ea1e9e245\").text(\"BokehJS successfully loaded.\");\n",
       "    } else if (Date.now() < window._bokeh_timeout) {\n",
       "      setTimeout(display_loaded, 100)\n",
       "    }\n",
       "  }\n",
       "\n",
       "  function run_callbacks() {\n",
       "    window._bokeh_onload_callbacks.forEach(function(callback) { callback() });\n",
       "    delete window._bokeh_onload_callbacks\n",
       "    console.info(\"Bokeh: all callbacks have finished\");\n",
       "  }\n",
       "\n",
       "  function load_libs(js_urls, callback) {\n",
       "    window._bokeh_onload_callbacks.push(callback);\n",
       "    if (window._bokeh_is_loading > 0) {\n",
       "      console.log(\"Bokeh: BokehJS is being loaded, scheduling callback at\", now());\n",
       "      return null;\n",
       "    }\n",
       "    if (js_urls == null || js_urls.length === 0) {\n",
       "      run_callbacks();\n",
       "      return null;\n",
       "    }\n",
       "    console.log(\"Bokeh: BokehJS not loaded, scheduling load and callback at\", now());\n",
       "    window._bokeh_is_loading = js_urls.length;\n",
       "    for (var i = 0; i < js_urls.length; i++) {\n",
       "      var url = js_urls[i];\n",
       "      var s = document.createElement('script');\n",
       "      s.src = url;\n",
       "      s.async = false;\n",
       "      s.onreadystatechange = s.onload = function() {\n",
       "        window._bokeh_is_loading--;\n",
       "        if (window._bokeh_is_loading === 0) {\n",
       "          console.log(\"Bokeh: all BokehJS libraries loaded\");\n",
       "          run_callbacks()\n",
       "        }\n",
       "      };\n",
       "      s.onerror = function() {\n",
       "        console.warn(\"failed to load library \" + url);\n",
       "      };\n",
       "      console.log(\"Bokeh: injecting script tag for BokehJS library: \", url);\n",
       "      document.getElementsByTagName(\"head\")[0].appendChild(s);\n",
       "    }\n",
       "  };var element = document.getElementById(\"7bbac738-7433-4e4e-bea6-297ea1e9e245\");\n",
       "  if (element == null) {\n",
       "    console.log(\"Bokeh: ERROR: autoload.js configured with elementid '7bbac738-7433-4e4e-bea6-297ea1e9e245' but no matching script tag was found. \")\n",
       "    return false;\n",
       "  }\n",
       "\n",
       "  var js_urls = ['https://cdn.pydata.org/bokeh/release/bokeh-0.12.3.min.js', 'https://cdn.pydata.org/bokeh/release/bokeh-widgets-0.12.3.min.js'];\n",
       "\n",
       "  var inline_js = [\n",
       "    function(Bokeh) {\n",
       "      Bokeh.set_log_level(\"info\");\n",
       "    },\n",
       "    \n",
       "    function(Bokeh) {\n",
       "      \n",
       "      Bokeh.$(\"#7bbac738-7433-4e4e-bea6-297ea1e9e245\").text(\"BokehJS is loading...\");\n",
       "    },\n",
       "    function(Bokeh) {\n",
       "      console.log(\"Bokeh: injecting CSS: https://cdn.pydata.org/bokeh/release/bokeh-0.12.3.min.css\");\n",
       "      Bokeh.embed.inject_css(\"https://cdn.pydata.org/bokeh/release/bokeh-0.12.3.min.css\");\n",
       "      console.log(\"Bokeh: injecting CSS: https://cdn.pydata.org/bokeh/release/bokeh-widgets-0.12.3.min.css\");\n",
       "      Bokeh.embed.inject_css(\"https://cdn.pydata.org/bokeh/release/bokeh-widgets-0.12.3.min.css\");\n",
       "    }\n",
       "  ];\n",
       "\n",
       "  function run_inline_js() {\n",
       "    \n",
       "    if ((window.Bokeh !== undefined) || (force === \"1\")) {\n",
       "      for (var i = 0; i < inline_js.length; i++) {\n",
       "        inline_js[i](window.Bokeh);\n",
       "      }if (force === \"1\") {\n",
       "        display_loaded();\n",
       "      }} else if (Date.now() < window._bokeh_timeout) {\n",
       "      setTimeout(run_inline_js, 100);\n",
       "    } else if (!window._bokeh_failed_load) {\n",
       "      console.log(\"Bokeh: BokehJS failed to load within specified timeout.\");\n",
       "      window._bokeh_failed_load = true;\n",
       "    } else if (!force) {\n",
       "      var cell = $(\"#7bbac738-7433-4e4e-bea6-297ea1e9e245\").parents('.cell').data().cell;\n",
       "      cell.output_area.append_execute_result(NB_LOAD_WARNING)\n",
       "    }\n",
       "\n",
       "  }\n",
       "\n",
       "  if (window._bokeh_is_loading === 0) {\n",
       "    console.log(\"Bokeh: BokehJS loaded, going straight to plotting\");\n",
       "    run_inline_js();\n",
       "  } else {\n",
       "    load_libs(js_urls, function() {\n",
       "      console.log(\"Bokeh: BokehJS plotting callback run at\", now());\n",
       "      run_inline_js();\n",
       "    });\n",
       "  }\n",
       "}(this));"
      ]
     },
     "metadata": {},
     "output_type": "display_data"
    }
   ],
   "source": [
    "from bokeh.io import output_notebook\n",
    "output_notebook()"
   ]
  },
  {
   "cell_type": "code",
   "execution_count": 17,
   "metadata": {
    "collapsed": true
   },
   "outputs": [],
   "source": [
    "from dask.diagnostics import Profiler, ResourceProfiler, visualize"
   ]
  },
  {
   "cell_type": "code",
   "execution_count": 25,
   "metadata": {
    "collapsed": true
   },
   "outputs": [],
   "source": [
    "with Profiler() as prof, ResourceProfiler(dt=0.25) as rprof:\n",
    "    result.compute()"
   ]
  },
  {
   "cell_type": "code",
   "execution_count": 26,
   "metadata": {
    "collapsed": false
   },
   "outputs": [
    {
     "data": {
      "text/html": [
       "\n",
       "\n",
       "    <div class=\"bk-root\">\n",
       "        <div class=\"plotdiv\" id=\"5b01aad1-27cc-4ee6-8d4c-4b14b6ba1fba\"></div>\n",
       "    </div>\n",
       "<script type=\"text/javascript\">\n",
       "  \n",
       "  (function(global) {\n",
       "    function now() {\n",
       "      return new Date();\n",
       "    }\n",
       "  \n",
       "    var force = \"\";\n",
       "  \n",
       "    if (typeof (window._bokeh_onload_callbacks) === \"undefined\" || force !== \"\") {\n",
       "      window._bokeh_onload_callbacks = [];\n",
       "      window._bokeh_is_loading = undefined;\n",
       "    }\n",
       "  \n",
       "  \n",
       "    \n",
       "    if (typeof (window._bokeh_timeout) === \"undefined\" || force !== \"\") {\n",
       "      window._bokeh_timeout = Date.now() + 0;\n",
       "      window._bokeh_failed_load = false;\n",
       "    }\n",
       "  \n",
       "    var NB_LOAD_WARNING = {'data': {'text/html':\n",
       "       \"<div style='background-color: #fdd'>\\n\"+\n",
       "       \"<p>\\n\"+\n",
       "       \"BokehJS does not appear to have successfully loaded. If loading BokehJS from CDN, this \\n\"+\n",
       "       \"may be due to a slow or bad network connection. Possible fixes:\\n\"+\n",
       "       \"</p>\\n\"+\n",
       "       \"<ul>\\n\"+\n",
       "       \"<li>re-rerun `output_notebook()` to attempt to load from CDN again, or</li>\\n\"+\n",
       "       \"<li>use INLINE resources instead, as so:</li>\\n\"+\n",
       "       \"</ul>\\n\"+\n",
       "       \"<code>\\n\"+\n",
       "       \"from bokeh.resources import INLINE\\n\"+\n",
       "       \"output_notebook(resources=INLINE)\\n\"+\n",
       "       \"</code>\\n\"+\n",
       "       \"</div>\"}};\n",
       "  \n",
       "    function display_loaded() {\n",
       "      if (window.Bokeh !== undefined) {\n",
       "        Bokeh.$(\"#5b01aad1-27cc-4ee6-8d4c-4b14b6ba1fba\").text(\"BokehJS successfully loaded.\");\n",
       "      } else if (Date.now() < window._bokeh_timeout) {\n",
       "        setTimeout(display_loaded, 100)\n",
       "      }\n",
       "    }\n",
       "  \n",
       "    function run_callbacks() {\n",
       "      window._bokeh_onload_callbacks.forEach(function(callback) { callback() });\n",
       "      delete window._bokeh_onload_callbacks\n",
       "      console.info(\"Bokeh: all callbacks have finished\");\n",
       "    }\n",
       "  \n",
       "    function load_libs(js_urls, callback) {\n",
       "      window._bokeh_onload_callbacks.push(callback);\n",
       "      if (window._bokeh_is_loading > 0) {\n",
       "        console.log(\"Bokeh: BokehJS is being loaded, scheduling callback at\", now());\n",
       "        return null;\n",
       "      }\n",
       "      if (js_urls == null || js_urls.length === 0) {\n",
       "        run_callbacks();\n",
       "        return null;\n",
       "      }\n",
       "      console.log(\"Bokeh: BokehJS not loaded, scheduling load and callback at\", now());\n",
       "      window._bokeh_is_loading = js_urls.length;\n",
       "      for (var i = 0; i < js_urls.length; i++) {\n",
       "        var url = js_urls[i];\n",
       "        var s = document.createElement('script');\n",
       "        s.src = url;\n",
       "        s.async = false;\n",
       "        s.onreadystatechange = s.onload = function() {\n",
       "          window._bokeh_is_loading--;\n",
       "          if (window._bokeh_is_loading === 0) {\n",
       "            console.log(\"Bokeh: all BokehJS libraries loaded\");\n",
       "            run_callbacks()\n",
       "          }\n",
       "        };\n",
       "        s.onerror = function() {\n",
       "          console.warn(\"failed to load library \" + url);\n",
       "        };\n",
       "        console.log(\"Bokeh: injecting script tag for BokehJS library: \", url);\n",
       "        document.getElementsByTagName(\"head\")[0].appendChild(s);\n",
       "      }\n",
       "    };var element = document.getElementById(\"5b01aad1-27cc-4ee6-8d4c-4b14b6ba1fba\");\n",
       "    if (element == null) {\n",
       "      console.log(\"Bokeh: ERROR: autoload.js configured with elementid '5b01aad1-27cc-4ee6-8d4c-4b14b6ba1fba' but no matching script tag was found. \")\n",
       "      return false;\n",
       "    }\n",
       "  \n",
       "    var js_urls = [];\n",
       "  \n",
       "    var inline_js = [\n",
       "      function(Bokeh) {\n",
       "        Bokeh.$(function() {\n",
       "            var docs_json = {\"f05178af-def7-4b77-afa7-5e49eb05b53b\":{\"roots\":{\"references\":[{\"attributes\":{\"axis_label\":\"Time (s)\",\"formatter\":{\"id\":\"32392060-2123-4f84-83cf-ee18b98076f7\",\"type\":\"BasicTickFormatter\"},\"plot\":{\"id\":\"12391827-0489-47b1-9008-5f423e36276b\",\"subtype\":\"Figure\",\"type\":\"Plot\"},\"ticker\":{\"id\":\"077532ce-163b-41bf-974b-2d556c495f10\",\"type\":\"BasicTicker\"}},\"id\":\"e3a6c13f-164e-4340-968c-e3487ba09e26\",\"type\":\"LinearAxis\"},{\"attributes\":{\"plot\":{\"id\":\"12391827-0489-47b1-9008-5f423e36276b\",\"subtype\":\"Figure\",\"type\":\"Plot\"}},\"id\":\"53984ba6-4cf8-45de-9a19-6187c066dde0\",\"type\":\"ResetTool\"},{\"attributes\":{\"callback\":null,\"end\":4601.950208,\"start\":3482.529792},\"id\":\"dc30cfb6-f603-47dd-b4a4-edc57276d582\",\"type\":\"Range1d\"},{\"attributes\":{\"items\":[{\"id\":\"ceecf84d-e575-4d83-a54f-7b53e77de192\",\"type\":\"LegendItem\"},{\"id\":\"b0199557-672d-405b-bfe0-3a7f72e85390\",\"type\":\"LegendItem\"}],\"plot\":{\"id\":\"12391827-0489-47b1-9008-5f423e36276b\",\"subtype\":\"Figure\",\"type\":\"Plot\"}},\"id\":\"f01b5bf1-a1d2-4d00-bad0-c4faff03991d\",\"type\":\"Legend\"},{\"attributes\":{\"label\":{\"value\":\"Memory\"},\"renderers\":[{\"id\":\"396e798e-a006-42a0-8b6d-0274a0240858\",\"type\":\"GlyphRenderer\"}]},\"id\":\"b0199557-672d-405b-bfe0-3a7f72e85390\",\"type\":\"LegendItem\"},{\"attributes\":{\"line_color\":{\"value\":\"#29788E\"},\"line_width\":{\"value\":4},\"x\":{\"field\":\"x\"},\"y\":{\"field\":\"y\"}},\"id\":\"e8da1d60-2ae5-4d72-bc8a-5706bcda82c9\",\"type\":\"Line\"},{\"attributes\":{\"plot\":{\"id\":\"12391827-0489-47b1-9008-5f423e36276b\",\"subtype\":\"Figure\",\"type\":\"Plot\"}},\"id\":\"4db2c59d-4ea6-4f3c-9cc0-1a9a13d5da51\",\"type\":\"SaveTool\"},{\"attributes\":{\"dimensions\":\"width\",\"plot\":{\"id\":\"12391827-0489-47b1-9008-5f423e36276b\",\"subtype\":\"Figure\",\"type\":\"Plot\"}},\"id\":\"f1c6739a-b17d-4b20-823a-68dbee583140\",\"type\":\"WheelZoomTool\"},{\"attributes\":{\"children\":[{\"id\":\"12391827-0489-47b1-9008-5f423e36276b\",\"subtype\":\"Figure\",\"type\":\"Plot\"}]},\"id\":\"43c5f871-5ac8-4c66-bd44-4498e2cbb08e\",\"type\":\"Row\"},{\"attributes\":{\"plot\":{\"id\":\"ad41a420-13fd-44a6-9e13-9d3f58ef4008\",\"subtype\":\"Figure\",\"type\":\"Plot\"}},\"id\":\"4d13c108-d8a3-4e07-966d-011facf51c15\",\"type\":\"ResetTool\"},{\"attributes\":{},\"id\":\"fb89e9ae-b4c1-4c76-b1d9-08c69a1b83c4\",\"type\":\"BasicTicker\"},{\"attributes\":{\"callback\":null,\"column_names\":[\"y\",\"color\",\"key\",\"width\",\"x\",\"function\"],\"data\":{\"color\":[\"#440154\",\"#FDE724\",\"#22A784\",\"#404387\",\"#22A784\",\"#FDE724\",\"#440154\",\"#404387\",\"#22A784\",\"#FDE724\",\"#404387\",\"#FDE724\",\"#FDE724\",\"#FDE724\",\"#404387\",\"#29788E\",\"#79D151\",\"#22A784\",\"#404387\",\"#79D151\",\"#79D151\",\"#22A784\",\"#440154\",\"#440154\",\"#440154\",\"#404387\",\"#FDE724\",\"#29788E\",\"#440154\",\"#404387\",\"#404387\",\"#440154\",\"#404387\",\"#29788E\",\"#440154\",\"#440154\",\"#FDE724\",\"#FDE724\",\"#22A784\"],\"function\":[\"_\",\"read_block_from_file(*, *, *, *, *)\",\"pandas_read_text(*, _, *, dict(...), dict(...), [*, *, *], enforce=*)\",\"_apply_chunk(_, *, *, *)\",\"pandas_read_text(*, _, *, dict(...), dict(...), [*, *, *], enforce=*)\",\"read_block_from_file(*, *, *, *, *)\",\"_\",\"_apply_chunk(_, *, *, *)\",\"pandas_read_text(*, _, *, dict(...), dict(...), [*, *, *], enforce=*)\",\"read_block_from_file(*, *, *, *, *)\",\"_apply_chunk(_, *, *, *)\",\"read_block_from_file(*, *, *, *, *)\",\"read_block_from_file(*, *, *, *, *)\",\"read_block_from_file(*, *, *, *, *)\",\"_apply_chunk(_, *, *, *)\",\"_groupby_aggregate(_concat(...), aggfunc=*, levels=*)\",\"pandas_read_text(..., ...)\",\"pandas_read_text(*, _, *, dict(...), dict(...), [*, *, *], enforce=*)\",\"_apply_chunk(_, *, *, *)\",\"pandas_read_text(..., ...)\",\"pandas_read_text(..., ...)\",\"pandas_read_text(*, _, *, dict(...), dict(...), [*, *, *], enforce=*)\",\"_\",\"_\",\"_\",\"_apply_chunk(_, *, *, *)\",\"read_block_from_file(*, *, *, *, *)\",\"_groupby_aggregate(_concat(...), aggfunc=*, levels=*)\",\"_\",\"_apply_chunk(_, *, *, *)\",\"_apply_chunk(_, *, *, *)\",\"_\",\"_apply_chunk(_, *, *, *)\",\"_groupby_aggregate(_concat(...), aggfunc=*, levels=*)\",\"_\",\"_\",\"read_block_from_file(*, *, *, *, *)\",\"read_block_from_file(*, *, *, *, *)\",\"pandas_read_text(*, _, *, dict(...), dict(...), [*, *, *], enforce=*)\"],\"key\":[\"('from-delayed-c9ead2409cd998eb18bcaaa2cf823115', 1)\",\"read-file-block-936d897213311b2c6641374f12606052-64000000\",\"pandas_read_text-f1e7e865182cbb8a2f782a2c248a4aa4\",\"('series-groupby-count-chunk-a44baaf13296d27a3953b030b2685471', 5)\",\"pandas_read_text-cfa1c3262a38aa6363f80ea37a56d8d8\",\"read-file-block-bd8790688d36aef314b2a189328abbc4-64000000\",\"('from-delayed-c9ead2409cd998eb18bcaaa2cf823115', 4)\",\"('series-groupby-count-chunk-a44baaf13296d27a3953b030b2685471', 7)\",\"pandas_read_text-bae039f9c86a798e47ab7613257bda73\",\"read-file-block-936d897213311b2c6641374f12606052-0\",\"('series-groupby-count-chunk-a44baaf13296d27a3953b030b2685471', 1)\",\"read-file-block-bd8790688d36aef314b2a189328abbc4-128000000\",\"read-file-block-ad5d2f4b82bd75caa69deabe3318c3a5-0\",\"read-file-block-ad5d2f4b82bd75caa69deabe3318c3a5-64000000\",\"('series-groupby-count-chunk-a44baaf13296d27a3953b030b2685471', 3)\",\"('series-groupby-count-combine-a44baaf13296d27a3953b030b2685471-0', 1)\",\"pandas_read_text-237a3ec385c0e95b2f3edad157448a99\",\"pandas_read_text-86458745fdb11738b1f84e3d81bf127f\",\"('series-groupby-count-chunk-a44baaf13296d27a3953b030b2685471', 8)\",\"pandas_read_text-6f167c5b3db381dd7503e65d6d0f322f\",\"pandas_read_text-de7c830eb1fd3a47a558bd5483f56c73\",\"pandas_read_text-c1c2fc191cb0f01ee457a5d748a4cedd\",\"('from-delayed-c9ead2409cd998eb18bcaaa2cf823115', 0)\",\"('from-delayed-c9ead2409cd998eb18bcaaa2cf823115', 2)\",\"('from-delayed-c9ead2409cd998eb18bcaaa2cf823115', 6)\",\"('series-groupby-count-chunk-a44baaf13296d27a3953b030b2685471', 4)\",\"read-file-block-ad5d2f4b82bd75caa69deabe3318c3a5-128000000\",\"('series-groupby-count-agg-a44baaf13296d27a3953b030b2685471', 0)\",\"('from-delayed-c9ead2409cd998eb18bcaaa2cf823115', 7)\",\"('series-groupby-count-chunk-a44baaf13296d27a3953b030b2685471', 6)\",\"('series-groupby-count-chunk-a44baaf13296d27a3953b030b2685471', 2)\",\"('from-delayed-c9ead2409cd998eb18bcaaa2cf823115', 5)\",\"('series-groupby-count-chunk-a44baaf13296d27a3953b030b2685471', 0)\",\"('series-groupby-count-combine-a44baaf13296d27a3953b030b2685471-0', 0)\",\"('from-delayed-c9ead2409cd998eb18bcaaa2cf823115', 8)\",\"('from-delayed-c9ead2409cd998eb18bcaaa2cf823115', 3)\",\"read-file-block-bd8790688d36aef314b2a189328abbc4-0\",\"read-file-block-936d897213311b2c6641374f12606052-128000000\",\"pandas_read_text-fdb6a67a73e0cae95ed661638e8aa3d5\"],\"width\":[0.0005964969750493765,0.5991607049945742,2.7911604160326533,0.08854037901619449,2.469106869015377,0.06352910801069811,0.003886848979163915,0.35628109297249466,0.8236373080289923,0.6526142180082388,0.6999374890001491,0.018581160984467715,0.06333263899432495,0.05443583702435717,0.753342934011016,0.0031908800010569394,1.98515825800132,2.038227645040024,0.0883026709780097,2.469175345962867,1.6710302259889431,0.48762294597690925,0.01097836997359991,0.00027954200049862266,0.005466036032885313,0.4691687519662082,0.20978385501075536,0.0020942650153301656,0.001658319029957056,0.6648386899614707,0.08321000594878569,0.0002844440168701112,1.043969577003736,0.007124020019546151,0.003666028962470591,0.0006301790126599371,0.14984361903043464,0.04755664599360898,0.6517723600263707],\"x\":[2.5330713795265183,3.5862538415240124,2.204029046057258,4.267967984487768,1.2982038305490278,0.031882860988844186,3.601558721566107,6.103882559516933,3.8115853140479885,3.5596235109842382,2.8833404754986987,0.009440464491490275,0.03183874353999272,0.7812273415620439,2.9099950560485013,4.701452359033283,1.1424258920014836,4.904954912548419,4.655698900518473,1.2980962410219945,4.721448576019611,4.364058304054197,2.140501297020819,0.6706525270710699,5.559704143030103,3.838089683034923,3.2948679635301232,6.290203638549428,5.924906664527953,5.894860693020746,0.7124001189949922,4.223552584007848,2.6679822455043904,6.285591418039985,4.609709288517479,2.533005828561727,0.07492180954432115,4.09646041499218,0.3446218680473976],\"y\":[4,4,1,3,2,2,1,1,3,2,2,1,4,1,4,3,3,4,1,4,2,1,3,1,1,1,3,2,2,3,1,3,3,4,3,4,3,1,1]}},\"id\":\"fee2fa4f-127b-4e4b-9844-a33762352228\",\"type\":\"ColumnDataSource\"},{\"attributes\":{\"children\":[{\"id\":\"245dd3b4-e9f1-4cdd-a57a-6589aef903f8\",\"type\":\"ToolbarBox\"},{\"id\":\"32f7e8e8-7e64-43c3-b94f-be34ceed4ebb\",\"type\":\"Column\"}]},\"id\":\"1336a019-1f40-4ce1-8c1e-0f7e2b4014b9\",\"type\":\"Column\"},{\"attributes\":{\"data_source\":{\"id\":\"dd44cbfa-5f6b-4df1-bcdb-d0863fd6826a\",\"type\":\"ColumnDataSource\"},\"glyph\":{\"id\":\"e8da1d60-2ae5-4d72-bc8a-5706bcda82c9\",\"type\":\"Line\"},\"hover_glyph\":null,\"nonselection_glyph\":{\"id\":\"e71d036b-5c13-4246-b163-da76961ec916\",\"type\":\"Line\"},\"selection_glyph\":null,\"y_range_name\":\"memory\"},\"id\":\"396e798e-a006-42a0-8b6d-0274a0240858\",\"type\":\"GlyphRenderer\"},{\"attributes\":{\"data_source\":{\"id\":\"fee2fa4f-127b-4e4b-9844-a33762352228\",\"type\":\"ColumnDataSource\"},\"glyph\":{\"id\":\"eadd3fc4-e183-4700-be1b-91d218e44684\",\"type\":\"Rect\"},\"hover_glyph\":null,\"nonselection_glyph\":{\"id\":\"197b9ba3-5ac5-4b39-a30d-b1fbcb77e371\",\"type\":\"Rect\"},\"selection_glyph\":null},\"id\":\"531287d6-d839-4bff-8bf2-b06f6e7ed2b7\",\"type\":\"GlyphRenderer\"},{\"attributes\":{},\"id\":\"4449e2e1-e7d8-4f3b-94b4-1258f6e06d1d\",\"type\":\"BasicTickFormatter\"},{\"attributes\":{\"line_alpha\":{\"value\":0.1},\"line_color\":{\"value\":\"#1f77b4\"},\"line_width\":{\"value\":4},\"x\":{\"field\":\"x\"},\"y\":{\"field\":\"y\"}},\"id\":\"e71d036b-5c13-4246-b163-da76961ec916\",\"type\":\"Line\"},{\"attributes\":{\"fill_alpha\":{\"value\":0.1},\"fill_color\":{\"value\":\"#1f77b4\"},\"height\":{\"units\":\"data\",\"value\":1},\"line_alpha\":{\"value\":0.1},\"line_color\":{\"value\":\"#1f77b4\"},\"width\":{\"field\":\"width\",\"units\":\"data\"},\"x\":{\"field\":\"x\"},\"y\":{\"field\":\"y\"}},\"id\":\"197b9ba3-5ac5-4b39-a30d-b1fbcb77e371\",\"type\":\"Rect\"},{\"attributes\":{\"axis_label\":null,\"axis_line_color\":{\"value\":null},\"formatter\":{\"id\":\"c292f3c3-0079-4927-9d51-5034745f0b68\",\"type\":\"BasicTickFormatter\"},\"major_tick_line_color\":{\"value\":null},\"plot\":{\"id\":\"ad41a420-13fd-44a6-9e13-9d3f58ef4008\",\"subtype\":\"Figure\",\"type\":\"Plot\"},\"ticker\":{\"id\":\"98e02f08-abf6-48fa-bd28-483fc1bbbd3d\",\"type\":\"BasicTicker\"}},\"id\":\"8191d5a6-a373-4ff4-8a7f-6b9c5e3cc222\",\"type\":\"LinearAxis\"},{\"attributes\":{\"grid_line_color\":{\"value\":null},\"plot\":{\"id\":\"ad41a420-13fd-44a6-9e13-9d3f58ef4008\",\"subtype\":\"Figure\",\"type\":\"Plot\"},\"ticker\":{\"id\":\"98e02f08-abf6-48fa-bd28-483fc1bbbd3d\",\"type\":\"BasicTicker\"}},\"id\":\"b069c584-2a2b-4b17-a68c-c8719941a939\",\"type\":\"Grid\"},{\"attributes\":{\"callback\":null,\"column_names\":[\"x\",\"y\"],\"data\":{\"x\":[0.0,0.2507216979865916,0.5014679979649372,0.7521678379853256,1.0028940219781362,1.2536011449992657,1.5043048889492638,1.7549941649776883,2.0056691209902056,2.256362308980897,2.507031005981844,2.7576320629450493,3.008189328946173,3.2588568039936945,3.509483574947808,3.7601001969887875,4.010773390997201,4.261451123980805,4.512143838976044,4.76282836694736,5.013532863988075,5.26422938297037,5.514921653957572,5.765597111952957,6.0160397999570705],\"y\":[0.0,203.4,283.2,251.3,239.3,295.2,291.2,275.2,211.4,175.5,123.7,99.8,99.7,219.4,155.6,135.6,167.5,235.4,235.4,171.5,175.5,175.5,155.6,107.7,119.8]}},\"id\":\"15d1aa0d-eb5c-413b-b31c-eed3978f19f5\",\"type\":\"ColumnDataSource\"},{\"attributes\":{},\"id\":\"98e02f08-abf6-48fa-bd28-483fc1bbbd3d\",\"type\":\"BasicTicker\"},{\"attributes\":{\"below\":[{\"id\":\"e3a6c13f-164e-4340-968c-e3487ba09e26\",\"type\":\"LinearAxis\"}],\"extra_y_ranges\":{\"memory\":{\"id\":\"dc30cfb6-f603-47dd-b4a4-edc57276d582\",\"type\":\"Range1d\"}},\"left\":[{\"id\":\"90d95a8d-19f8-4016-bbbb-e69650787ec3\",\"type\":\"LinearAxis\"}],\"min_border_left\":75,\"min_border_right\":75,\"min_border_top\":20,\"plot_height\":270,\"plot_width\":800,\"renderers\":[{\"id\":\"e3a6c13f-164e-4340-968c-e3487ba09e26\",\"type\":\"LinearAxis\"},{\"id\":\"31e2f69d-1925-4a7c-a65d-856322f312cf\",\"type\":\"Grid\"},{\"id\":\"90d95a8d-19f8-4016-bbbb-e69650787ec3\",\"type\":\"LinearAxis\"},{\"id\":\"323f1c9f-1601-48c7-85dc-ac70ed20d3b6\",\"type\":\"Grid\"},{\"id\":\"f01b5bf1-a1d2-4d00-bad0-c4faff03991d\",\"type\":\"Legend\"},{\"id\":\"1f894334-2294-4738-b20a-1f6f37e3e7de\",\"type\":\"GlyphRenderer\"},{\"id\":\"396e798e-a006-42a0-8b6d-0274a0240858\",\"type\":\"GlyphRenderer\"},{\"id\":\"fa302339-d926-49ea-8a20-e086b9cfe930\",\"type\":\"LinearAxis\"}],\"right\":[{\"id\":\"fa302339-d926-49ea-8a20-e086b9cfe930\",\"type\":\"LinearAxis\"}],\"title\":null,\"tool_events\":{\"id\":\"a687c193-9a55-4ab2-bb84-da94aa57b10b\",\"type\":\"ToolEvents\"},\"toolbar\":{\"id\":\"8c63c126-5114-4d49-acf4-10bbfd368617\",\"type\":\"Toolbar\"},\"toolbar_location\":null,\"x_range\":{\"id\":\"066d2854-2d93-43aa-a0be-4a1733ad9841\",\"type\":\"Range1d\"},\"y_range\":{\"id\":\"e37364a3-7a03-4446-8e42-ee4db9d2afc5\",\"type\":\"Range1d\"}},\"id\":\"12391827-0489-47b1-9008-5f423e36276b\",\"subtype\":\"Figure\",\"type\":\"Plot\"},{\"attributes\":{\"dimensions\":\"width\",\"plot\":{\"id\":\"ad41a420-13fd-44a6-9e13-9d3f58ef4008\",\"subtype\":\"Figure\",\"type\":\"Plot\"}},\"id\":\"0b2c3300-0402-422c-9796-cff77c73658c\",\"type\":\"PanTool\"},{\"attributes\":{\"children\":[{\"id\":\"ad41a420-13fd-44a6-9e13-9d3f58ef4008\",\"subtype\":\"Figure\",\"type\":\"Plot\"}]},\"id\":\"01732e1b-9c53-4c80-9165-45f2c6f5975c\",\"type\":\"Row\"},{\"attributes\":{},\"id\":\"e62a62a0-5a30-4901-9972-3d2f9da64a8b\",\"type\":\"BasicTicker\"},{\"attributes\":{\"plot\":{\"id\":\"ad41a420-13fd-44a6-9e13-9d3f58ef4008\",\"subtype\":\"Figure\",\"type\":\"Plot\"}},\"id\":\"2b7761d4-6750-40d6-ba8f-413626787888\",\"type\":\"SaveTool\"},{\"attributes\":{\"axis_label\":\"Memory (MB)\",\"formatter\":{\"id\":\"4449e2e1-e7d8-4f3b-94b4-1258f6e06d1d\",\"type\":\"BasicTickFormatter\"},\"plot\":{\"id\":\"12391827-0489-47b1-9008-5f423e36276b\",\"subtype\":\"Figure\",\"type\":\"Plot\"},\"ticker\":{\"id\":\"e62a62a0-5a30-4901-9972-3d2f9da64a8b\",\"type\":\"BasicTicker\"},\"y_range_name\":\"memory\"},\"id\":\"fa302339-d926-49ea-8a20-e086b9cfe930\",\"type\":\"LinearAxis\"},{\"attributes\":{\"active_drag\":\"auto\",\"active_scroll\":\"auto\",\"active_tap\":\"auto\",\"tools\":[{\"id\":\"aa15e994-4459-4c36-8858-d8b93bf25552\",\"type\":\"HoverTool\"},{\"id\":\"2b7761d4-6750-40d6-ba8f-413626787888\",\"type\":\"SaveTool\"},{\"id\":\"4d13c108-d8a3-4e07-966d-011facf51c15\",\"type\":\"ResetTool\"},{\"id\":\"18411bcb-3b9b-4c7a-88e9-6b9c9dc0109e\",\"type\":\"ResizeTool\"},{\"id\":\"cf9e8920-b579-44d0-9f87-2ff284fc5e99\",\"type\":\"WheelZoomTool\"},{\"id\":\"0b2c3300-0402-422c-9796-cff77c73658c\",\"type\":\"PanTool\"}]},\"id\":\"f2121873-ba3b-4bbb-9773-2b8d5de17f48\",\"type\":\"Toolbar\"},{\"attributes\":{\"axis_label\":\"% CPU\",\"formatter\":{\"id\":\"0f8a0182-3c79-424b-94bf-ef25bf14891c\",\"type\":\"BasicTickFormatter\"},\"plot\":{\"id\":\"12391827-0489-47b1-9008-5f423e36276b\",\"subtype\":\"Figure\",\"type\":\"Plot\"},\"ticker\":{\"id\":\"fb89e9ae-b4c1-4c76-b1d9-08c69a1b83c4\",\"type\":\"BasicTicker\"}},\"id\":\"90d95a8d-19f8-4016-bbbb-e69650787ec3\",\"type\":\"LinearAxis\"},{\"attributes\":{},\"id\":\"c292f3c3-0079-4927-9d51-5034745f0b68\",\"type\":\"BasicTickFormatter\"},{\"attributes\":{},\"id\":\"32392060-2123-4f84-83cf-ee18b98076f7\",\"type\":\"BasicTickFormatter\"},{\"attributes\":{\"dimension\":1,\"grid_line_color\":{\"value\":null},\"plot\":{\"id\":\"ad41a420-13fd-44a6-9e13-9d3f58ef4008\",\"subtype\":\"Figure\",\"type\":\"Plot\"},\"ticker\":{\"id\":\"d556b78e-e6ec-4ce0-aa2b-75354151989e\",\"type\":\"CategoricalTicker\"}},\"id\":\"72acd706-e20a-4068-b2b9-70bef920686d\",\"type\":\"Grid\"},{\"attributes\":{\"plot\":{\"id\":\"12391827-0489-47b1-9008-5f423e36276b\",\"subtype\":\"Figure\",\"type\":\"Plot\"},\"ticker\":{\"id\":\"077532ce-163b-41bf-974b-2d556c495f10\",\"type\":\"BasicTicker\"}},\"id\":\"31e2f69d-1925-4a7c-a65d-856322f312cf\",\"type\":\"Grid\"},{\"attributes\":{\"dimensions\":\"width\",\"plot\":{\"id\":\"12391827-0489-47b1-9008-5f423e36276b\",\"subtype\":\"Figure\",\"type\":\"Plot\"}},\"id\":\"3eb6b163-a31b-40b5-8fa3-8f77e121019a\",\"type\":\"PanTool\"},{\"attributes\":{},\"id\":\"0f8a0182-3c79-424b-94bf-ef25bf14891c\",\"type\":\"BasicTickFormatter\"},{\"attributes\":{},\"id\":\"d556b78e-e6ec-4ce0-aa2b-75354151989e\",\"type\":\"CategoricalTicker\"},{\"attributes\":{\"plot\":null,\"text\":\"Profile Results\"},\"id\":\"1f74ec2b-bf8f-4147-97ae-f96fa633f727\",\"type\":\"Title\"},{\"attributes\":{\"line_color\":{\"value\":\"#440154\"},\"line_width\":{\"value\":4},\"x\":{\"field\":\"x\"},\"y\":{\"field\":\"y\"}},\"id\":\"9a914b29-67ae-40d8-944a-d08ae056521c\",\"type\":\"Line\"},{\"attributes\":{\"sizing_mode\":\"scale_width\",\"toolbar_location\":\"above\",\"tools\":[{\"id\":\"aa15e994-4459-4c36-8858-d8b93bf25552\",\"type\":\"HoverTool\"},{\"id\":\"2b7761d4-6750-40d6-ba8f-413626787888\",\"type\":\"SaveTool\"},{\"id\":\"4d13c108-d8a3-4e07-966d-011facf51c15\",\"type\":\"ResetTool\"},{\"id\":\"18411bcb-3b9b-4c7a-88e9-6b9c9dc0109e\",\"type\":\"ResizeTool\"},{\"id\":\"cf9e8920-b579-44d0-9f87-2ff284fc5e99\",\"type\":\"WheelZoomTool\"},{\"id\":\"0b2c3300-0402-422c-9796-cff77c73658c\",\"type\":\"PanTool\"},{\"id\":\"4db2c59d-4ea6-4f3c-9cc0-1a9a13d5da51\",\"type\":\"SaveTool\"},{\"id\":\"53984ba6-4cf8-45de-9a19-6187c066dde0\",\"type\":\"ResetTool\"},{\"id\":\"3471b142-d78b-4ab5-912d-7f7facc60365\",\"type\":\"ResizeTool\"},{\"id\":\"f1c6739a-b17d-4b20-823a-68dbee583140\",\"type\":\"WheelZoomTool\"},{\"id\":\"3eb6b163-a31b-40b5-8fa3-8f77e121019a\",\"type\":\"PanTool\"}]},\"id\":\"245dd3b4-e9f1-4cdd-a57a-6589aef903f8\",\"type\":\"ToolbarBox\"},{\"attributes\":{\"plot\":{\"id\":\"ad41a420-13fd-44a6-9e13-9d3f58ef4008\",\"subtype\":\"Figure\",\"type\":\"Plot\"}},\"id\":\"18411bcb-3b9b-4c7a-88e9-6b9c9dc0109e\",\"type\":\"ResizeTool\"},{\"attributes\":{\"callback\":null,\"end\":295.2},\"id\":\"e37364a3-7a03-4446-8e42-ee4db9d2afc5\",\"type\":\"Range1d\"},{\"attributes\":{\"children\":[{\"id\":\"01732e1b-9c53-4c80-9165-45f2c6f5975c\",\"type\":\"Row\"},{\"id\":\"43c5f871-5ac8-4c66-bd44-4498e2cbb08e\",\"type\":\"Row\"}]},\"id\":\"32f7e8e8-7e64-43c3-b94f-be34ceed4ebb\",\"type\":\"Column\"},{\"attributes\":{\"below\":[{\"id\":\"8191d5a6-a373-4ff4-8a7f-6b9c5e3cc222\",\"type\":\"LinearAxis\"}],\"left\":[{\"id\":\"a1fd9cb2-d292-4602-87b5-1c33323c7d3c\",\"type\":\"CategoricalAxis\"}],\"min_border_bottom\":20,\"min_border_left\":75,\"min_border_right\":75,\"plot_height\":270,\"plot_width\":800,\"renderers\":[{\"id\":\"8191d5a6-a373-4ff4-8a7f-6b9c5e3cc222\",\"type\":\"LinearAxis\"},{\"id\":\"b069c584-2a2b-4b17-a68c-c8719941a939\",\"type\":\"Grid\"},{\"id\":\"a1fd9cb2-d292-4602-87b5-1c33323c7d3c\",\"type\":\"CategoricalAxis\"},{\"id\":\"72acd706-e20a-4068-b2b9-70bef920686d\",\"type\":\"Grid\"},{\"id\":\"531287d6-d839-4bff-8bf2-b06f6e7ed2b7\",\"type\":\"GlyphRenderer\"}],\"title\":{\"id\":\"1f74ec2b-bf8f-4147-97ae-f96fa633f727\",\"type\":\"Title\"},\"tool_events\":{\"id\":\"3b30fc82-4ea3-45d8-abc1-52e5252ddca3\",\"type\":\"ToolEvents\"},\"toolbar\":{\"id\":\"f2121873-ba3b-4bbb-9773-2b8d5de17f48\",\"type\":\"Toolbar\"},\"toolbar_location\":null,\"x_range\":{\"id\":\"066d2854-2d93-43aa-a0be-4a1733ad9841\",\"type\":\"Range1d\"},\"y_range\":{\"id\":\"1c7abaae-87ea-4927-a102-4ceb732f880c\",\"type\":\"FactorRange\"}},\"id\":\"ad41a420-13fd-44a6-9e13-9d3f58ef4008\",\"subtype\":\"Figure\",\"type\":\"Plot\"},{\"attributes\":{\"callback\":null,\"column_names\":[\"y\",\"x\"],\"data\":{\"x\":[0.0,0.2507216979865916,0.5014679979649372,0.7521678379853256,1.0028940219781362,1.2536011449992657,1.5043048889492638,1.7549941649776883,2.0056691209902056,2.256362308980897,2.507031005981844,2.7576320629450493,3.008189328946173,3.2588568039936945,3.509483574947808,3.7601001969887875,4.010773390997201,4.261451123980805,4.512143838976044,4.76282836694736,5.013532863988075,5.26422938297037,5.514921653957572,5.765597111952957,6.0160397999570705],\"y\":[3482.529792,3819.487232,3873.603584,3958.738944,4061.519872,4122.451968,4193.251328,4260.491264,4601.950208,4537.892864,4257.918976,4291.710976,4302.92992,3652.882432,3824.607232,3786.620928,3903.889408,3820.105728,3873.349632,3874.312192,3918.106624,3965.218816,4000.636928,4085.260288,3951.988736]}},\"id\":\"dd44cbfa-5f6b-4df1-bcdb-d0863fd6826a\",\"type\":\"ColumnDataSource\"},{\"attributes\":{\"active_drag\":\"auto\",\"active_scroll\":\"auto\",\"active_tap\":\"auto\",\"tools\":[{\"id\":\"4db2c59d-4ea6-4f3c-9cc0-1a9a13d5da51\",\"type\":\"SaveTool\"},{\"id\":\"53984ba6-4cf8-45de-9a19-6187c066dde0\",\"type\":\"ResetTool\"},{\"id\":\"3471b142-d78b-4ab5-912d-7f7facc60365\",\"type\":\"ResizeTool\"},{\"id\":\"f1c6739a-b17d-4b20-823a-68dbee583140\",\"type\":\"WheelZoomTool\"},{\"id\":\"3eb6b163-a31b-40b5-8fa3-8f77e121019a\",\"type\":\"PanTool\"}]},\"id\":\"8c63c126-5114-4d49-acf4-10bbfd368617\",\"type\":\"Toolbar\"},{\"attributes\":{},\"id\":\"3b30fc82-4ea3-45d8-abc1-52e5252ddca3\",\"type\":\"ToolEvents\"},{\"attributes\":{},\"id\":\"077532ce-163b-41bf-974b-2d556c495f10\",\"type\":\"BasicTicker\"},{\"attributes\":{\"dimensions\":\"width\",\"plot\":{\"id\":\"ad41a420-13fd-44a6-9e13-9d3f58ef4008\",\"subtype\":\"Figure\",\"type\":\"Plot\"}},\"id\":\"cf9e8920-b579-44d0-9f87-2ff284fc5e99\",\"type\":\"WheelZoomTool\"},{\"attributes\":{\"line_alpha\":{\"value\":0.1},\"line_color\":{\"value\":\"#1f77b4\"},\"line_width\":{\"value\":4},\"x\":{\"field\":\"x\"},\"y\":{\"field\":\"y\"}},\"id\":\"5684b1dd-ee90-4156-96fd-d9a97c9ae8c3\",\"type\":\"Line\"},{\"attributes\":{\"dimension\":1,\"plot\":{\"id\":\"12391827-0489-47b1-9008-5f423e36276b\",\"subtype\":\"Figure\",\"type\":\"Plot\"},\"ticker\":{\"id\":\"fb89e9ae-b4c1-4c76-b1d9-08c69a1b83c4\",\"type\":\"BasicTicker\"}},\"id\":\"323f1c9f-1601-48c7-85dc-ac70ed20d3b6\",\"type\":\"Grid\"},{\"attributes\":{},\"id\":\"b8f4eaa4-5fb5-4ff9-9a60-5accedf09634\",\"type\":\"CategoricalTickFormatter\"},{\"attributes\":{\"callback\":null,\"plot\":{\"id\":\"ad41a420-13fd-44a6-9e13-9d3f58ef4008\",\"subtype\":\"Figure\",\"type\":\"Plot\"},\"point_policy\":\"follow_mouse\",\"tooltips\":\"\\n    <div>\\n        <span style=\\\"font-size: 14px; font-weight: bold;\\\">Key:</span>&nbsp;\\n        <span style=\\\"font-size: 10px; font-family: Monaco, monospace;\\\">@key</span>\\n    </div>\\n    <div>\\n        <span style=\\\"font-size: 14px; font-weight: bold;\\\">Task:</span>&nbsp;\\n        <span style=\\\"font-size: 10px; font-family: Monaco, monospace;\\\">@function</span>\\n    </div>\\n    \"},\"id\":\"aa15e994-4459-4c36-8858-d8b93bf25552\",\"type\":\"HoverTool\"},{\"attributes\":{\"callback\":null,\"factors\":[\"0\",\"1\",\"2\",\"3\"]},\"id\":\"1c7abaae-87ea-4927-a102-4ceb732f880c\",\"type\":\"FactorRange\"},{\"attributes\":{\"plot\":{\"id\":\"12391827-0489-47b1-9008-5f423e36276b\",\"subtype\":\"Figure\",\"type\":\"Plot\"}},\"id\":\"3471b142-d78b-4ab5-912d-7f7facc60365\",\"type\":\"ResizeTool\"},{\"attributes\":{\"callback\":null,\"end\":6.29125077102799},\"id\":\"066d2854-2d93-43aa-a0be-4a1733ad9841\",\"type\":\"Range1d\"},{\"attributes\":{\"data_source\":{\"id\":\"15d1aa0d-eb5c-413b-b31c-eed3978f19f5\",\"type\":\"ColumnDataSource\"},\"glyph\":{\"id\":\"9a914b29-67ae-40d8-944a-d08ae056521c\",\"type\":\"Line\"},\"hover_glyph\":null,\"nonselection_glyph\":{\"id\":\"5684b1dd-ee90-4156-96fd-d9a97c9ae8c3\",\"type\":\"Line\"},\"selection_glyph\":null},\"id\":\"1f894334-2294-4738-b20a-1f6f37e3e7de\",\"type\":\"GlyphRenderer\"},{\"attributes\":{},\"id\":\"a687c193-9a55-4ab2-bb84-da94aa57b10b\",\"type\":\"ToolEvents\"},{\"attributes\":{\"fill_color\":{\"field\":\"color\"},\"height\":{\"units\":\"data\",\"value\":1},\"line_color\":{\"value\":\"gray\"},\"width\":{\"field\":\"width\",\"units\":\"data\"},\"x\":{\"field\":\"x\"},\"y\":{\"field\":\"y\"}},\"id\":\"eadd3fc4-e183-4700-be1b-91d218e44684\",\"type\":\"Rect\"},{\"attributes\":{\"label\":{\"value\":\"% CPU\"},\"renderers\":[{\"id\":\"1f894334-2294-4738-b20a-1f6f37e3e7de\",\"type\":\"GlyphRenderer\"}]},\"id\":\"ceecf84d-e575-4d83-a54f-7b53e77de192\",\"type\":\"LegendItem\"},{\"attributes\":{\"axis_label\":\"Worker ID\",\"axis_line_color\":{\"value\":null},\"formatter\":{\"id\":\"b8f4eaa4-5fb5-4ff9-9a60-5accedf09634\",\"type\":\"CategoricalTickFormatter\"},\"major_tick_line_color\":{\"value\":null},\"plot\":{\"id\":\"ad41a420-13fd-44a6-9e13-9d3f58ef4008\",\"subtype\":\"Figure\",\"type\":\"Plot\"},\"ticker\":{\"id\":\"d556b78e-e6ec-4ce0-aa2b-75354151989e\",\"type\":\"CategoricalTicker\"}},\"id\":\"a1fd9cb2-d292-4602-87b5-1c33323c7d3c\",\"type\":\"CategoricalAxis\"}],\"root_ids\":[\"1336a019-1f40-4ce1-8c1e-0f7e2b4014b9\"]},\"title\":\"Bokeh Application\",\"version\":\"0.12.3\"}};\n",
       "            var render_items = [{\"docid\":\"f05178af-def7-4b77-afa7-5e49eb05b53b\",\"elementid\":\"5b01aad1-27cc-4ee6-8d4c-4b14b6ba1fba\",\"modelid\":\"1336a019-1f40-4ce1-8c1e-0f7e2b4014b9\"}];\n",
       "            \n",
       "            Bokeh.embed.embed_items(docs_json, render_items);\n",
       "        });\n",
       "      },\n",
       "      function(Bokeh) {\n",
       "      }\n",
       "    ];\n",
       "  \n",
       "    function run_inline_js() {\n",
       "      \n",
       "      if ((window.Bokeh !== undefined) || (force === \"1\")) {\n",
       "        for (var i = 0; i < inline_js.length; i++) {\n",
       "          inline_js[i](window.Bokeh);\n",
       "        }if (force === \"1\") {\n",
       "          display_loaded();\n",
       "        }} else if (Date.now() < window._bokeh_timeout) {\n",
       "        setTimeout(run_inline_js, 100);\n",
       "      } else if (!window._bokeh_failed_load) {\n",
       "        console.log(\"Bokeh: BokehJS failed to load within specified timeout.\");\n",
       "        window._bokeh_failed_load = true;\n",
       "      } else if (!force) {\n",
       "        var cell = $(\"#5b01aad1-27cc-4ee6-8d4c-4b14b6ba1fba\").parents('.cell').data().cell;\n",
       "        cell.output_area.append_execute_result(NB_LOAD_WARNING)\n",
       "      }\n",
       "  \n",
       "    }\n",
       "  \n",
       "    if (window._bokeh_is_loading === 0) {\n",
       "      console.log(\"Bokeh: BokehJS loaded, going straight to plotting\");\n",
       "      run_inline_js();\n",
       "    } else {\n",
       "      load_libs(js_urls, function() {\n",
       "        console.log(\"Bokeh: BokehJS plotting callback run at\", now());\n",
       "        run_inline_js();\n",
       "      });\n",
       "    }\n",
       "  }(this));\n",
       "</script>"
      ]
     },
     "metadata": {},
     "output_type": "display_data"
    },
    {
     "data": {
      "text/html": [
       "<div style=\"display: table;\"><div style=\"display: table-row;\"><div style=\"display: table-cell;\"><b title=\"bokeh.models.layouts.Column\">Column</b>(</div><div style=\"display: table-cell;\">id&nbsp;=&nbsp;'1336a019-1f40-4ce1-8c1e-0f7e2b4014b9', <span id=\"1628fa99-78eb-4cd8-87c7-14e6d32483f1\" style=\"cursor: pointer;\">&hellip;)</span></div></div><div class=\"98be453f-d1a8-4b0c-885a-5711011bb4f1\" style=\"display: none;\"><div style=\"display: table-cell;\"></div><div style=\"display: table-cell;\">children&nbsp;=&nbsp;[ToolbarBox(id='245dd3b4-e9f1-4cdd-a57a-6589aef903f8', ...), Column(id='32f7e8e8-7e64-43c3-b94f-be34ceed4ebb', ...)],</div></div><div class=\"98be453f-d1a8-4b0c-885a-5711011bb4f1\" style=\"display: none;\"><div style=\"display: table-cell;\"></div><div style=\"display: table-cell;\">disabled&nbsp;=&nbsp;False,</div></div><div class=\"98be453f-d1a8-4b0c-885a-5711011bb4f1\" style=\"display: none;\"><div style=\"display: table-cell;\"></div><div style=\"display: table-cell;\">height&nbsp;=&nbsp;None,</div></div><div class=\"98be453f-d1a8-4b0c-885a-5711011bb4f1\" style=\"display: none;\"><div style=\"display: table-cell;\"></div><div style=\"display: table-cell;\">name&nbsp;=&nbsp;None,</div></div><div class=\"98be453f-d1a8-4b0c-885a-5711011bb4f1\" style=\"display: none;\"><div style=\"display: table-cell;\"></div><div style=\"display: table-cell;\">sizing_mode&nbsp;=&nbsp;'fixed',</div></div><div class=\"98be453f-d1a8-4b0c-885a-5711011bb4f1\" style=\"display: none;\"><div style=\"display: table-cell;\"></div><div style=\"display: table-cell;\">tags&nbsp;=&nbsp;[],</div></div><div class=\"98be453f-d1a8-4b0c-885a-5711011bb4f1\" style=\"display: none;\"><div style=\"display: table-cell;\"></div><div style=\"display: table-cell;\">width&nbsp;=&nbsp;None)</div></div></div>\n",
       "<script>\n",
       "(function() {\n",
       "  var expanded = false;\n",
       "  var ellipsis = document.getElementById(\"1628fa99-78eb-4cd8-87c7-14e6d32483f1\");\n",
       "  ellipsis.addEventListener(\"click\", function() {\n",
       "    var rows = document.getElementsByClassName(\"98be453f-d1a8-4b0c-885a-5711011bb4f1\");\n",
       "    for (var i = 0; i < rows.length; i++) {\n",
       "      var el = rows[i];\n",
       "      el.style.display = expanded ? \"none\" : \"table-row\";\n",
       "    }\n",
       "    ellipsis.innerHTML = expanded ? \"&hellip;)\" : \"&lsaquo;&lsaquo;&lsaquo;\";\n",
       "    expanded = !expanded;\n",
       "  });\n",
       "})();\n",
       "</script>\n"
      ],
      "text/plain": [
       "Column(id='1336a019-1f40-4ce1-8c1e-0f7e2b4014b9', ...)"
      ]
     },
     "execution_count": 26,
     "metadata": {},
     "output_type": "execute_result"
    }
   ],
   "source": [
    "visualize([prof, rprof])"
   ]
  },
  {
   "cell_type": "markdown",
   "metadata": {},
   "source": [
    "The results from the `Profiler` object show the execution time for each task as a rectangle, organized along the y-axis by worker (in this case threads). Similar tasks are grouped by color, and by hovering over each task one can see the key and task that each block represents.\n",
    "\n",
    "The results from the `ResourceProfiler object` show two lines, one for total CPU percentage used by all the workers, and one for total memory usage."
   ]
  },
  {
   "cell_type": "markdown",
   "metadata": {},
   "source": [
    "Conclusion\n",
    "------------\n",
    "\n",
    "We've learned about how dask graph represent computations and how we can execute these computations with dask schedulers / get functions.  We've made a few of these dictionaries by hand.  It's straightforward but perhaps tiresome. We then saw shortly how dask collections can generate similar dictionaries for us, and how we can visualize the execution of those graphs.\n",
    "\n",
    "In the next notebooks we will see more in depth examples using the Dask collections."
   ]
  }
 ],
 "metadata": {
  "celltoolbar": "Nbtutor - export exercises",
  "kernelspec": {
   "display_name": "Python 3",
   "language": "python",
   "name": "python3"
  },
  "language_info": {
   "codemirror_mode": {
    "name": "ipython",
    "version": 3
   },
   "file_extension": ".py",
   "mimetype": "text/x-python",
   "name": "python",
   "nbconvert_exporter": "python",
   "pygments_lexer": "ipython3",
   "version": "3.5.2"
  },
  "nav_menu": {},
  "toc": {
   "navigate_menu": true,
   "number_sections": false,
   "sideBar": true,
   "threshold": 6,
   "toc_cell": false,
   "toc_section_display": "block",
   "toc_window_display": true
  },
  "toc_position": {
   "height": "881px",
   "left": "0px",
   "right": "1585px",
   "top": "107px",
   "width": "335px"
  }
 },
 "nbformat": 4,
 "nbformat_minor": 0
}
